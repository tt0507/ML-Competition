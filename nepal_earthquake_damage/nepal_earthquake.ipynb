{
 "cells": [
  {
   "cell_type": "markdown",
   "metadata": {
    "collapsed": true,
    "pycharm": {
     "name": "#%% md\n"
    }
   },
   "source": [
    "# Nepal Earthquake Prediction Challenge"
   ]
  },
  {
   "cell_type": "code",
   "execution_count": 1,
   "outputs": [],
   "source": [
    "import pandas as pd\n",
    "import matplotlib.pyplot as plt\n",
    "import numpy as np\n",
    "from scipy.stats import yeojohnson\n",
    "from sklearn.compose import ColumnTransformer\n",
    "from sklearn.pipeline import Pipeline\n",
    "from sklearn.preprocessing import OneHotEncoder, OrdinalEncoder, FunctionTransformer\n",
    "from sklearn.model_selection import train_test_split, RandomizedSearchCV\n",
    "from sklearn.metrics import f1_score\n",
    "import xgboost\n",
    "import shap"
   ],
   "metadata": {
    "collapsed": false,
    "pycharm": {
     "name": "#%%\n"
    }
   }
  },
  {
   "cell_type": "markdown",
   "source": [
    "## Import Dataset"
   ],
   "metadata": {
    "collapsed": false,
    "pycharm": {
     "name": "#%% md\n"
    }
   }
  },
  {
   "cell_type": "code",
   "execution_count": 2,
   "outputs": [
    {
     "data": {
      "text/plain": "   building_id  geo_level_1_id  geo_level_2_id  geo_level_3_id  \\\n0       802906               6             487           12198   \n1        28830               8             900            2812   \n2        94947              21             363            8973   \n3       590882              22             418           10694   \n4       201944              11             131            1488   \n\n   count_floors_pre_eq  age  area_percentage  height_percentage  \\\n0                    2   30                6                  5   \n1                    2   10                8                  7   \n2                    2   10                5                  5   \n3                    2   10                6                  5   \n4                    3   30                8                  9   \n\n  land_surface_condition foundation_type  ... has_secondary_use_hotel  \\\n0                      t               r  ...                       0   \n1                      o               r  ...                       0   \n2                      t               r  ...                       0   \n3                      t               r  ...                       0   \n4                      t               r  ...                       0   \n\n  has_secondary_use_rental has_secondary_use_institution  \\\n0                        0                             0   \n1                        0                             0   \n2                        0                             0   \n3                        0                             0   \n4                        0                             0   \n\n  has_secondary_use_school has_secondary_use_industry  \\\n0                        0                          0   \n1                        0                          0   \n2                        0                          0   \n3                        0                          0   \n4                        0                          0   \n\n   has_secondary_use_health_post  has_secondary_use_gov_office  \\\n0                              0                             0   \n1                              0                             0   \n2                              0                             0   \n3                              0                             0   \n4                              0                             0   \n\n   has_secondary_use_use_police  has_secondary_use_other  damage_grade  \n0                             0                        0             2  \n1                             0                        0             1  \n2                             0                        0             2  \n3                             0                        0             1  \n4                             0                        0             2  \n\n[5 rows x 40 columns]",
      "text/html": "<div>\n<style scoped>\n    .dataframe tbody tr th:only-of-type {\n        vertical-align: middle;\n    }\n\n    .dataframe tbody tr th {\n        vertical-align: top;\n    }\n\n    .dataframe thead th {\n        text-align: right;\n    }\n</style>\n<table border=\"1\" class=\"dataframe\">\n  <thead>\n    <tr style=\"text-align: right;\">\n      <th></th>\n      <th>building_id</th>\n      <th>geo_level_1_id</th>\n      <th>geo_level_2_id</th>\n      <th>geo_level_3_id</th>\n      <th>count_floors_pre_eq</th>\n      <th>age</th>\n      <th>area_percentage</th>\n      <th>height_percentage</th>\n      <th>land_surface_condition</th>\n      <th>foundation_type</th>\n      <th>...</th>\n      <th>has_secondary_use_hotel</th>\n      <th>has_secondary_use_rental</th>\n      <th>has_secondary_use_institution</th>\n      <th>has_secondary_use_school</th>\n      <th>has_secondary_use_industry</th>\n      <th>has_secondary_use_health_post</th>\n      <th>has_secondary_use_gov_office</th>\n      <th>has_secondary_use_use_police</th>\n      <th>has_secondary_use_other</th>\n      <th>damage_grade</th>\n    </tr>\n  </thead>\n  <tbody>\n    <tr>\n      <th>0</th>\n      <td>802906</td>\n      <td>6</td>\n      <td>487</td>\n      <td>12198</td>\n      <td>2</td>\n      <td>30</td>\n      <td>6</td>\n      <td>5</td>\n      <td>t</td>\n      <td>r</td>\n      <td>...</td>\n      <td>0</td>\n      <td>0</td>\n      <td>0</td>\n      <td>0</td>\n      <td>0</td>\n      <td>0</td>\n      <td>0</td>\n      <td>0</td>\n      <td>0</td>\n      <td>2</td>\n    </tr>\n    <tr>\n      <th>1</th>\n      <td>28830</td>\n      <td>8</td>\n      <td>900</td>\n      <td>2812</td>\n      <td>2</td>\n      <td>10</td>\n      <td>8</td>\n      <td>7</td>\n      <td>o</td>\n      <td>r</td>\n      <td>...</td>\n      <td>0</td>\n      <td>0</td>\n      <td>0</td>\n      <td>0</td>\n      <td>0</td>\n      <td>0</td>\n      <td>0</td>\n      <td>0</td>\n      <td>0</td>\n      <td>1</td>\n    </tr>\n    <tr>\n      <th>2</th>\n      <td>94947</td>\n      <td>21</td>\n      <td>363</td>\n      <td>8973</td>\n      <td>2</td>\n      <td>10</td>\n      <td>5</td>\n      <td>5</td>\n      <td>t</td>\n      <td>r</td>\n      <td>...</td>\n      <td>0</td>\n      <td>0</td>\n      <td>0</td>\n      <td>0</td>\n      <td>0</td>\n      <td>0</td>\n      <td>0</td>\n      <td>0</td>\n      <td>0</td>\n      <td>2</td>\n    </tr>\n    <tr>\n      <th>3</th>\n      <td>590882</td>\n      <td>22</td>\n      <td>418</td>\n      <td>10694</td>\n      <td>2</td>\n      <td>10</td>\n      <td>6</td>\n      <td>5</td>\n      <td>t</td>\n      <td>r</td>\n      <td>...</td>\n      <td>0</td>\n      <td>0</td>\n      <td>0</td>\n      <td>0</td>\n      <td>0</td>\n      <td>0</td>\n      <td>0</td>\n      <td>0</td>\n      <td>0</td>\n      <td>1</td>\n    </tr>\n    <tr>\n      <th>4</th>\n      <td>201944</td>\n      <td>11</td>\n      <td>131</td>\n      <td>1488</td>\n      <td>3</td>\n      <td>30</td>\n      <td>8</td>\n      <td>9</td>\n      <td>t</td>\n      <td>r</td>\n      <td>...</td>\n      <td>0</td>\n      <td>0</td>\n      <td>0</td>\n      <td>0</td>\n      <td>0</td>\n      <td>0</td>\n      <td>0</td>\n      <td>0</td>\n      <td>0</td>\n      <td>2</td>\n    </tr>\n  </tbody>\n</table>\n<p>5 rows × 40 columns</p>\n</div>"
     },
     "execution_count": 2,
     "metadata": {},
     "output_type": "execute_result"
    }
   ],
   "source": [
    "raw_train = pd.read_csv('train_values.csv')\n",
    "raw_label = pd.read_csv('train_labels.csv')\n",
    "df = pd.merge(raw_train, raw_label, how=\"left\", on=\"building_id\")\n",
    "df['damage_grade'] = df['damage_grade'] - 1\n",
    "df.head()"
   ],
   "metadata": {
    "collapsed": false,
    "pycharm": {
     "name": "#%%\n"
    }
   }
  },
  {
   "cell_type": "code",
   "execution_count": 3,
   "outputs": [
    {
     "name": "stdout",
     "output_type": "stream",
     "text": [
      "<class 'pandas.core.frame.DataFrame'>\n",
      "Int64Index: 260601 entries, 0 to 260600\n",
      "Data columns (total 40 columns):\n",
      " #   Column                                  Non-Null Count   Dtype \n",
      "---  ------                                  --------------   ----- \n",
      " 0   building_id                             260601 non-null  int64 \n",
      " 1   geo_level_1_id                          260601 non-null  int64 \n",
      " 2   geo_level_2_id                          260601 non-null  int64 \n",
      " 3   geo_level_3_id                          260601 non-null  int64 \n",
      " 4   count_floors_pre_eq                     260601 non-null  int64 \n",
      " 5   age                                     260601 non-null  int64 \n",
      " 6   area_percentage                         260601 non-null  int64 \n",
      " 7   height_percentage                       260601 non-null  int64 \n",
      " 8   land_surface_condition                  260601 non-null  object\n",
      " 9   foundation_type                         260601 non-null  object\n",
      " 10  roof_type                               260601 non-null  object\n",
      " 11  ground_floor_type                       260601 non-null  object\n",
      " 12  other_floor_type                        260601 non-null  object\n",
      " 13  position                                260601 non-null  object\n",
      " 14  plan_configuration                      260601 non-null  object\n",
      " 15  has_superstructure_adobe_mud            260601 non-null  int64 \n",
      " 16  has_superstructure_mud_mortar_stone     260601 non-null  int64 \n",
      " 17  has_superstructure_stone_flag           260601 non-null  int64 \n",
      " 18  has_superstructure_cement_mortar_stone  260601 non-null  int64 \n",
      " 19  has_superstructure_mud_mortar_brick     260601 non-null  int64 \n",
      " 20  has_superstructure_cement_mortar_brick  260601 non-null  int64 \n",
      " 21  has_superstructure_timber               260601 non-null  int64 \n",
      " 22  has_superstructure_bamboo               260601 non-null  int64 \n",
      " 23  has_superstructure_rc_non_engineered    260601 non-null  int64 \n",
      " 24  has_superstructure_rc_engineered        260601 non-null  int64 \n",
      " 25  has_superstructure_other                260601 non-null  int64 \n",
      " 26  legal_ownership_status                  260601 non-null  object\n",
      " 27  count_families                          260601 non-null  int64 \n",
      " 28  has_secondary_use                       260601 non-null  int64 \n",
      " 29  has_secondary_use_agriculture           260601 non-null  int64 \n",
      " 30  has_secondary_use_hotel                 260601 non-null  int64 \n",
      " 31  has_secondary_use_rental                260601 non-null  int64 \n",
      " 32  has_secondary_use_institution           260601 non-null  int64 \n",
      " 33  has_secondary_use_school                260601 non-null  int64 \n",
      " 34  has_secondary_use_industry              260601 non-null  int64 \n",
      " 35  has_secondary_use_health_post           260601 non-null  int64 \n",
      " 36  has_secondary_use_gov_office            260601 non-null  int64 \n",
      " 37  has_secondary_use_use_police            260601 non-null  int64 \n",
      " 38  has_secondary_use_other                 260601 non-null  int64 \n",
      " 39  damage_grade                            260601 non-null  int64 \n",
      "dtypes: int64(32), object(8)\n",
      "memory usage: 81.5+ MB\n"
     ]
    }
   ],
   "source": [
    "df.info()"
   ],
   "metadata": {
    "collapsed": false,
    "pycharm": {
     "name": "#%%\n"
    }
   }
  },
  {
   "cell_type": "markdown",
   "source": [
    "## Explatory Data Analysis"
   ],
   "metadata": {
    "collapsed": false,
    "pycharm": {
     "name": "#%% md\n"
    }
   }
  },
  {
   "cell_type": "code",
   "execution_count": 4,
   "outputs": [
    {
     "data": {
      "text/plain": "<Figure size 720x288 with 3 Axes>",
      "image/png": "[encoded data removed]"
     },
     "metadata": {
      "needs_background": "light"
     },
     "output_type": "display_data"
    }
   ],
   "source": [
    "plt.figure(figsize=(10, 4))\n",
    "plt.subplot(1, 3, 1)\n",
    "plt.hist(df['geo_level_1_id'])\n",
    "plt.ylabel(\"Frequency\")\n",
    "plt.xlabel(\"geo_level_1_id\")\n",
    "\n",
    "plt.subplot(1, 3, 2)\n",
    "plt.hist(df['geo_level_2_id'])\n",
    "plt.xlabel(\"geo_level_2_id\")\n",
    "\n",
    "plt.subplot(1, 3, 3)\n",
    "plt.hist(df['geo_level_3_id'])\n",
    "plt.xlabel(\"geo_level_3_id\")\n",
    "\n",
    "plt.tight_layout()\n",
    "plt.show()"
   ],
   "metadata": {
    "collapsed": false,
    "pycharm": {
     "name": "#%%\n"
    }
   }
  },
  {
   "cell_type": "code",
   "execution_count": 5,
   "outputs": [
    {
     "data": {
      "text/plain": "<Figure size 720x288 with 3 Axes>",
      "image/png": "[encoded data removed]"
     },
     "metadata": {
      "needs_background": "light"
     },
     "output_type": "display_data"
    }
   ],
   "source": [
    "plt.figure(figsize=(10, 4))\n",
    "plt.subplot(1, 3, 1)\n",
    "plt.hist(df['count_floors_pre_eq'])\n",
    "plt.ylabel(\"Frequency\")\n",
    "plt.xlabel(\"count_floors_pre_eq\")\n",
    "\n",
    "plt.subplot(1, 3, 2)\n",
    "plt.hist(df['age'])\n",
    "plt.xlabel(\"age\")\n",
    "\n",
    "plt.subplot(1, 3, 3)\n",
    "plt.hist(df['area_percentage'])\n",
    "plt.xlabel(\"area_percentage\")\n",
    "\n",
    "plt.tight_layout()\n",
    "plt.show()"
   ],
   "metadata": {
    "collapsed": false,
    "pycharm": {
     "name": "#%%\n"
    }
   }
  },
  {
   "cell_type": "markdown",
   "source": [
    "..."
   ],
   "metadata": {
    "collapsed": false,
    "pycharm": {
     "name": "#%% md\n"
    }
   }
  },
  {
   "cell_type": "code",
   "execution_count": 6,
   "outputs": [
    {
     "data": {
      "text/plain": "<Figure size 720x288 with 2 Axes>",
      "image/png": "[encoded data removed]"
     },
     "metadata": {
      "needs_background": "light"
     },
     "output_type": "display_data"
    }
   ],
   "source": [
    "plt.figure(figsize=(10, 4))\n",
    "plt.subplot(1, 2, 1)\n",
    "plt.hist(df['count_families'])\n",
    "plt.ylabel('Frequency')\n",
    "plt.xlabel('count_families')\n",
    "\n",
    "plt.subplot(1, 2, 2)\n",
    "plt.hist(df['height_percentage'])\n",
    "plt.xlabel('height_percentage')\n",
    "plt.tight_layout()\n",
    "plt.show()"
   ],
   "metadata": {
    "collapsed": false,
    "pycharm": {
     "name": "#%%\n"
    }
   }
  },
  {
   "cell_type": "code",
   "execution_count": 7,
   "outputs": [],
   "source": [
    "def convert_count_floors_pre_eq(val):\n",
    "    if val >= 4:\n",
    "        return \"4+\"\n",
    "    else:\n",
    "        return str(val)\n",
    "\n",
    "def convert_count_families(val):\n",
    "    if val >= 3:\n",
    "        return \"3+\"\n",
    "    else:\n",
    "        return str(val)"
   ],
   "metadata": {
    "collapsed": false,
    "pycharm": {
     "name": "#%%\n"
    }
   }
  },
  {
   "cell_type": "code",
   "execution_count": 8,
   "outputs": [],
   "source": [
    "df['new_count_floor_pre_eq'] = df['count_floors_pre_eq'].apply(convert_count_floors_pre_eq)\n",
    "df['new_count_families'] = df['count_families'].apply(convert_count_families)\n",
    "df['age_transform'] = yeojohnson(df['age'])[0]\n",
    "df['area_percentage_transform'] = np.log(df['area_percentage'])\n",
    "df['height_percentage_transform'] = np.log(df['height_percentage'])"
   ],
   "metadata": {
    "collapsed": false,
    "pycharm": {
     "name": "#%%\n"
    }
   }
  },
  {
   "cell_type": "code",
   "execution_count": 9,
   "outputs": [
    {
     "data": {
      "text/plain": "<Figure size 720x288 with 3 Axes>",
      "image/png": "[encoded data removed]"
     },
     "metadata": {
      "needs_background": "light"
     },
     "output_type": "display_data"
    }
   ],
   "source": [
    "plt.figure(figsize=(10, 4))\n",
    "plt.subplot(1, 3, 1)\n",
    "plt.hist(df['new_count_floor_pre_eq'])\n",
    "plt.ylabel(\"Frequency\")\n",
    "plt.xlabel(\"count_floors_pre_eq\")\n",
    "\n",
    "plt.subplot(1, 3, 2)\n",
    "plt.hist(df['age_transform'])\n",
    "plt.xlabel(\"age\")\n",
    "\n",
    "plt.subplot(1, 3, 3)\n",
    "plt.hist(df['area_percentage_transform'])\n",
    "plt.xlabel(\"area_percentage\")\n",
    "\n",
    "plt.tight_layout()\n",
    "plt.show()"
   ],
   "metadata": {
    "collapsed": false,
    "pycharm": {
     "name": "#%%\n"
    }
   }
  },
  {
   "cell_type": "code",
   "execution_count": 10,
   "outputs": [
    {
     "data": {
      "text/plain": "<Figure size 720x288 with 2 Axes>",
      "image/png": "[encoded data removed]"
     },
     "metadata": {
      "needs_background": "light"
     },
     "output_type": "display_data"
    }
   ],
   "source": [
    "plt.figure(figsize=(10, 4))\n",
    "plt.subplot(1, 2, 1)\n",
    "plt.hist(df['new_count_families'])\n",
    "plt.ylabel('Frequency')\n",
    "plt.xlabel('count_families')\n",
    "\n",
    "plt.subplot(1, 2, 2)\n",
    "plt.hist(df['height_percentage_transform'])\n",
    "plt.xlabel('height_percentage')\n",
    "plt.tight_layout()\n",
    "plt.show()"
   ],
   "metadata": {
    "collapsed": false,
    "pycharm": {
     "name": "#%%\n"
    }
   }
  },
  {
   "cell_type": "code",
   "execution_count": 11,
   "outputs": [],
   "source": [
    "q75, q25 = np.percentile(df['age_transform'], [75 ,25])\n",
    "iqr = q75 - q25\n",
    "outlier_range = (q25 - 1.5*iqr, q75 + 1.5*iqr)"
   ],
   "metadata": {
    "collapsed": false,
    "pycharm": {
     "name": "#%%\n"
    }
   }
  },
  {
   "cell_type": "code",
   "execution_count": 12,
   "outputs": [],
   "source": [
    "# remove outliers\n",
    "df = df[(df['age_transform'] > outlier_range[0]) &\n",
    "        (df['age_transform'] < outlier_range[1])\n",
    "        ]"
   ],
   "metadata": {
    "collapsed": false,
    "pycharm": {
     "name": "#%%\n"
    }
   }
  },
  {
   "cell_type": "markdown",
   "source": [
    "## Creating Model"
   ],
   "metadata": {
    "collapsed": false,
    "pycharm": {
     "name": "#%% md\n"
    }
   }
  },
  {
   "cell_type": "code",
   "execution_count": 13,
   "outputs": [],
   "source": [
    "numerical = ['geo_level_1_id', 'geo_level_2_id', 'geo_level_3_id',\n",
    "             'height_percentage_transform', 'area_percentage_transform', 'age_transform']\n",
    "\n",
    "categorical = ['new_count_families', 'new_count_floor_pre_eq', 'land_surface_condition',\n",
    "               'foundation_type', 'roof_type', 'ground_floor_type', 'other_floor_type',\n",
    "               'position', 'plan_configuration', 'legal_ownership_status']\n",
    "\n",
    "binary = ['has_superstructure_adobe_mud', 'has_superstructure_mud_mortar_stone',\n",
    "          'has_superstructure_stone_flag', 'has_superstructure_cement_mortar_stone',\n",
    "          'has_superstructure_mud_mortar_brick', 'has_superstructure_cement_mortar_brick',\n",
    "          'has_superstructure_timber', 'has_superstructure_bamboo',\n",
    "          'has_superstructure_rc_non_engineered', 'has_superstructure_rc_engineered',\n",
    "          'has_superstructure_other', 'has_secondary_use',\n",
    "          'has_secondary_use_agriculture', 'has_secondary_use_hotel',\n",
    "          'has_secondary_use_rental', 'has_secondary_use_institution',\n",
    "          'has_secondary_use_school', 'has_secondary_use_industry',\n",
    "          'has_secondary_use_health_post', 'has_secondary_use_gov_office',\n",
    "          'has_secondary_use_use_police', 'has_secondary_use_other']"
   ],
   "metadata": {
    "collapsed": false,
    "pycharm": {
     "name": "#%%\n"
    }
   }
  },
  {
   "cell_type": "code",
   "execution_count": 14,
   "outputs": [],
   "source": [
    "numeric_transformer = Pipeline(\n",
    "    steps=[(\"identity\", FunctionTransformer())]\n",
    ")\n",
    "\n",
    "categorical_transformer = Pipeline(\n",
    "    steps=[(\"ordinal\", OrdinalEncoder())]\n",
    ")\n",
    "\n",
    "binary_transformer = Pipeline(\n",
    "    steps=[(\"ordinal\", FunctionTransformer())]\n",
    ")\n",
    "\n",
    "preprocessor = ColumnTransformer(\n",
    "    transformers=[\n",
    "        (\"num\", numeric_transformer, numerical),\n",
    "        (\"cat\", categorical_transformer, categorical),\n",
    "        (\"binary\", binary_transformer, binary)\n",
    "    ]\n",
    ")"
   ],
   "metadata": {
    "collapsed": false,
    "pycharm": {
     "name": "#%%\n"
    }
   }
  },
  {
   "cell_type": "code",
   "execution_count": 15,
   "outputs": [],
   "source": [
    "train = df[numerical + categorical + binary]\n",
    "label = df['damage_grade']"
   ],
   "metadata": {
    "collapsed": false,
    "pycharm": {
     "name": "#%%\n"
    }
   }
  },
  {
   "cell_type": "code",
   "execution_count": 16,
   "outputs": [],
   "source": [
    "X_train, X_test, y_train, y_test = train_test_split(train, label, test_size=0.2, shuffle=True)"
   ],
   "metadata": {
    "collapsed": false,
    "pycharm": {
     "name": "#%%\n"
    }
   }
  },
  {
   "cell_type": "code",
   "execution_count": 17,
   "outputs": [],
   "source": [
    "pipeline = preprocessor.fit(X_train)\n",
    "train_x, test_x = pipeline.transform(X_train), pipeline.transform(X_test)"
   ],
   "metadata": {
    "collapsed": false,
    "pycharm": {
     "name": "#%%\n"
    }
   }
  },
  {
   "cell_type": "markdown",
   "source": [
    "## Fit XGBoost and get SHAP value"
   ],
   "metadata": {
    "collapsed": false,
    "pycharm": {
     "name": "#%% md\n"
    }
   }
  },
  {
   "cell_type": "code",
   "execution_count": 18,
   "outputs": [],
   "source": [
    "dm_train = xgboost.DMatrix(train_x, label=y_train,\n",
    "                           feature_names=pipeline.feature_names_in_)"
   ],
   "metadata": {
    "collapsed": false,
    "pycharm": {
     "name": "#%%\n"
    }
   }
  },
  {
   "cell_type": "code",
   "execution_count": 19,
   "outputs": [
    {
     "name": "stdout",
     "output_type": "stream",
     "text": [
      "[21:40:58] WARNING: /Users/runner/work/xgboost/xgboost/src/learner.cc:1115: Starting in XGBoost 1.3.0, the default evaluation metric used with the objective 'multi:softmax' was changed from 'merror' to 'mlogloss'. Explicitly set eval_metric if you'd like to restore the old behavior.\n"
     ]
    }
   ],
   "source": [
    "param = {\n",
    "    'objective': 'multi:softmax',\n",
    "    'num_class': 3,\n",
    "    'nthread': -1\n",
    "}\n",
    "\n",
    "model = xgboost.train(param, dm_train)"
   ],
   "metadata": {
    "collapsed": false,
    "pycharm": {
     "name": "#%%\n"
    }
   }
  },
  {
   "cell_type": "markdown",
   "source": [
    "### Feature Importance Plot"
   ],
   "metadata": {
    "collapsed": false,
    "pycharm": {
     "name": "#%% md\n"
    }
   }
  },
  {
   "cell_type": "code",
   "execution_count": 20,
   "outputs": [
    {
     "data": {
      "text/plain": "<Figure size 432x288 with 1 Axes>",
      "image/png": "[encoded data removed]"
     },
     "metadata": {
      "needs_background": "light"
     },
     "output_type": "display_data"
    }
   ],
   "source": [
    "xgboost.plot_importance(model, max_num_features=20)\n",
    "plt.title(\"xgboost.plot_importance(model)\")\n",
    "plt.show()"
   ],
   "metadata": {
    "collapsed": false,
    "pycharm": {
     "name": "#%%\n"
    }
   }
  },
  {
   "cell_type": "markdown",
   "source": [
    "### SHAP Value"
   ],
   "metadata": {
    "collapsed": false,
    "pycharm": {
     "name": "#%% md\n"
    }
   }
  },
  {
   "cell_type": "code",
   "execution_count": 21,
   "outputs": [],
   "source": [
    "explainer = shap.TreeExplainer(model)\n",
    "shap_values = explainer.shap_values(dm_train)"
   ],
   "metadata": {
    "collapsed": false,
    "pycharm": {
     "name": "#%%\n"
    }
   }
  },
  {
   "cell_type": "code",
   "execution_count": 22,
   "outputs": [
    {
     "data": {
      "text/plain": "<Figure size 576x684 with 1 Axes>",
      "image/png": "[encoded data removed]"
     },
     "metadata": {
      "needs_background": "light"
     },
     "output_type": "display_data"
    }
   ],
   "source": [
    "shap.summary_plot(shap_values, plot_type=\"bar\",\n",
    "                  feature_names=pipeline.feature_names_in_)"
   ],
   "metadata": {
    "collapsed": false,
    "pycharm": {
     "name": "#%%\n"
    }
   }
  },
  {
   "cell_type": "markdown",
   "source": [
    "## Baseline Model"
   ],
   "metadata": {
    "collapsed": false,
    "pycharm": {
     "name": "#%% md\n"
    }
   }
  },
  {
   "cell_type": "code",
   "execution_count": 23,
   "outputs": [],
   "source": [
    "dm_test_baseline = xgboost.DMatrix(test_x, feature_names=pipeline.feature_names_in_)"
   ],
   "metadata": {
    "collapsed": false,
    "pycharm": {
     "name": "#%%\n"
    }
   }
  },
  {
   "cell_type": "code",
   "execution_count": 24,
   "outputs": [],
   "source": [
    "predict_baseline = model.predict(dm_test_baseline)"
   ],
   "metadata": {
    "collapsed": false,
    "pycharm": {
     "name": "#%%\n"
    }
   }
  },
  {
   "cell_type": "code",
   "execution_count": 25,
   "outputs": [
    {
     "data": {
      "text/plain": "0.6888984416980118"
     },
     "execution_count": 25,
     "metadata": {},
     "output_type": "execute_result"
    }
   ],
   "source": [
    "f1_score(y_test, predict_baseline, average='micro')"
   ],
   "metadata": {
    "collapsed": false,
    "pycharm": {
     "name": "#%%\n"
    }
   }
  },
  {
   "cell_type": "markdown",
   "source": [
    "## Feature Selection"
   ],
   "metadata": {
    "collapsed": false,
    "pycharm": {
     "name": "#%% md\n"
    }
   }
  },
  {
   "cell_type": "markdown",
   "source": [
    "### Variables based on SHAP Value"
   ],
   "metadata": {
    "collapsed": false,
    "pycharm": {
     "name": "#%% md\n"
    }
   }
  },
  {
   "cell_type": "code",
   "execution_count": 75,
   "outputs": [],
   "source": [
    "numeric_shap = ['geo_level_1_id', 'age_transform', 'geo_level_2_id']\n",
    "\n",
    "categorical_shap = ['foundation_type', 'roof_type', 'other_floor_type',\n",
    "                    'new_count_floor_pre_eq']\n",
    "\n",
    "binary_shap = ['has_superstructure_mud_mortar_stone', 'has_superstructure_cement_mortar_stone',\n",
    "               'has_superstructure_mud_mortar_brick']"
   ],
   "metadata": {
    "collapsed": false,
    "pycharm": {
     "name": "#%%\n"
    }
   }
  },
  {
   "cell_type": "markdown",
   "source": [
    "### Variables based on feature importance"
   ],
   "metadata": {
    "collapsed": false,
    "pycharm": {
     "name": "#%% md\n"
    }
   }
  },
  {
   "cell_type": "code",
   "execution_count": 76,
   "outputs": [],
   "source": [
    "numeric_fi = ['geo_level_1_id', 'geo_level_2_id', 'geo_level_3_id', 'age_transform',\n",
    "              'area_percentage_transform', 'height_percentage_transform']\n",
    "\n",
    "categorical_fi = ['foundation_type', 'roof_type', 'new_count_families']\n",
    "\n",
    "binary_fi = ['has_superstructure_mud_mortar_stone']"
   ],
   "metadata": {
    "collapsed": false,
    "pycharm": {
     "name": "#%%\n"
    }
   }
  },
  {
   "cell_type": "markdown",
   "source": [
    "### Pipeline"
   ],
   "metadata": {
    "collapsed": false,
    "pycharm": {
     "name": "#%% md\n"
    }
   }
  },
  {
   "cell_type": "code",
   "execution_count": 77,
   "outputs": [],
   "source": [
    "data_shap = df[numeric_shap + categorical_shap + binary_shap]\n",
    "data_fi = df[numeric_fi + categorical_fi + binary_fi]\n",
    "\n",
    "label = df['damage_grade']"
   ],
   "metadata": {
    "collapsed": false,
    "pycharm": {
     "name": "#%%\n"
    }
   }
  },
  {
   "cell_type": "code",
   "execution_count": 78,
   "outputs": [],
   "source": [
    "preprocessor_shap = ColumnTransformer(\n",
    "    transformers=[\n",
    "        (\"num\", numeric_transformer, numeric_shap),\n",
    "        (\"cat\", categorical_transformer, categorical_shap),\n",
    "        (\"binary\", binary_transformer, binary_shap)\n",
    "    ]\n",
    ")\n",
    "\n",
    "preprocessor_fi = ColumnTransformer(\n",
    "    transformers=[\n",
    "        (\"num\", numeric_transformer, numeric_fi),\n",
    "        (\"cat\", categorical_transformer, categorical_fi),\n",
    "        (\"binary\", binary_transformer, binary_fi)\n",
    "    ]\n",
    ")"
   ],
   "metadata": {
    "collapsed": false,
    "pycharm": {
     "name": "#%%\n"
    }
   }
  },
  {
   "cell_type": "code",
   "execution_count": 79,
   "outputs": [],
   "source": [
    "pipeline_shap = preprocessor_shap.fit(data_shap)\n",
    "pipeline_fi = preprocessor_fi.fit(data_fi)"
   ],
   "metadata": {
    "collapsed": false,
    "pycharm": {
     "name": "#%%\n"
    }
   }
  },
  {
   "cell_type": "code",
   "execution_count": 80,
   "outputs": [],
   "source": [
    "# convert values in pipeline\n",
    "data_transform_shap = pipeline_shap.transform(data_shap)\n",
    "data_transform_fi = pipeline_fi.transform(data_fi)"
   ],
   "metadata": {
    "collapsed": false,
    "pycharm": {
     "name": "#%%\n"
    }
   }
  },
  {
   "cell_type": "code",
   "execution_count": 81,
   "outputs": [],
   "source": [
    "# split to train and test\n",
    "X_train_shap, X_test_shap, y_train_shap, y_test_shape = train_test_split(data_transform_shap,\n",
    "                                                                         label,\n",
    "                                                                         test_size=0.2,\n",
    "                                                                         shuffle=True)\n",
    "\n",
    "X_train_fi, X_test_fi, y_train_fi, y_test_fi = train_test_split(data_transform_fi,\n",
    "                                                                label,\n",
    "                                                                test_size=0.2,\n",
    "                                                                shuffle=True)"
   ],
   "metadata": {
    "collapsed": false,
    "pycharm": {
     "name": "#%%\n"
    }
   }
  },
  {
   "cell_type": "markdown",
   "source": [
    "### Hyperparameter Tuning and finding best model"
   ],
   "metadata": {
    "collapsed": false,
    "pycharm": {
     "name": "#%% md\n"
    }
   }
  },
  {
   "cell_type": "code",
   "execution_count": 86,
   "outputs": [],
   "source": [
    "model = xgboost.XGBClassifier(objective= 'multi:softmax', verbosity=0,\n",
    "                              use_label_encoder=False)"
   ],
   "metadata": {
    "collapsed": false,
    "pycharm": {
     "name": "#%%\n"
    }
   }
  },
  {
   "cell_type": "code",
   "execution_count": 87,
   "outputs": [],
   "source": [
    "param_grid = {\n",
    "    'n_estimators': [10, 50, 100, 500, 1000],\n",
    "    'max_depth': [2, 3, 4, 5],\n",
    "    'learning_rate': [0.1, 0.01, 0.001],\n",
    "    'gamma': [0.1, 0.01, 0.001],\n",
    "    'reg_alpha': [0.1, 0.01, 0.001],\n",
    "    'reg_lambda': [0.1, 0.01, 0.001]\n",
    "}"
   ],
   "metadata": {
    "collapsed": false,
    "pycharm": {
     "name": "#%%\n"
    }
   }
  },
  {
   "cell_type": "code",
   "execution_count": 88,
   "outputs": [],
   "source": [
    "random_search = RandomizedSearchCV(model, param_distributions=param_grid,\n",
    "                                   n_iter=50,\n",
    "                                   scoring='f1_micro',\n",
    "                                   cv=5,\n",
    "                                   verbose=0)"
   ],
   "metadata": {
    "collapsed": false,
    "pycharm": {
     "name": "#%%\n"
    }
   }
  },
  {
   "cell_type": "markdown",
   "source": [
    "#### SHAP Value"
   ],
   "metadata": {
    "collapsed": false,
    "pycharm": {
     "name": "#%% md\n"
    }
   }
  },
  {
   "cell_type": "code",
   "execution_count": 89,
   "outputs": [
    {
     "data": {
      "text/plain": "RandomizedSearchCV(cv=5,\n                   estimator=XGBClassifier(base_score=None, booster=None,\n                                           colsample_bylevel=None,\n                                           colsample_bynode=None,\n                                           colsample_bytree=None,\n                                           enable_categorical=False, gamma=None,\n                                           gpu_id=None, importance_type=None,\n                                           interaction_constraints=None,\n                                           learning_rate=None,\n                                           max_delta_step=None, max_depth=None,\n                                           min_child_weight=None, missing=nan,\n                                           monotone_constraints...\n                                           reg_alpha=None, reg_lambda=None,\n                                           scale_pos_weight=None,\n                                           subsample=None, tree_method=None,\n                                           use_label_encoder=False,\n                                           validate_parameters=None,\n                                           verbosity=0),\n                   n_iter=50,\n                   param_distributions={'gamma': [0.1, 0.01, 0.001],\n                                        'learning_rate': [0.1, 0.01, 0.001],\n                                        'max_depth': [2, 3, 4, 5],\n                                        'n_estimators': [10, 50, 100, 500,\n                                                         1000],\n                                        'reg_alpha': [0.1, 0.01, 0.001],\n                                        'reg_lambda': [0.1, 0.01, 0.001]},\n                   scoring='f1_micro')"
     },
     "execution_count": 89,
     "metadata": {},
     "output_type": "execute_result"
    }
   ],
   "source": [
    "# fit columns derived from shap value\n",
    "rs_shap = random_search\n",
    "rs_shap.fit(X_train_shap, y_train_shap)"
   ],
   "metadata": {
    "collapsed": false,
    "pycharm": {
     "name": "#%%\n"
    }
   }
  },
  {
   "cell_type": "code",
   "execution_count": 91,
   "outputs": [
    {
     "name": "stdout",
     "output_type": "stream",
     "text": [
      "Best Parameters: {'reg_lambda': 0.01, 'reg_alpha': 0.1, 'n_estimators': 500, 'max_depth': 5, 'learning_rate': 0.1, 'gamma': 0.001}\n",
      "Best micro-f1 score: 0.7209027404621171\n"
     ]
    }
   ],
   "source": [
    "print(f\"Best Parameters: {rs_shap.best_params_}\")\n",
    "print(f\"Best micro-f1 score: {rs_shap.best_score_}\")"
   ],
   "metadata": {
    "collapsed": false,
    "pycharm": {
     "name": "#%%\n"
    }
   }
  },
  {
   "cell_type": "markdown",
   "source": [
    "#### Feature Importance"
   ],
   "metadata": {
    "collapsed": false,
    "pycharm": {
     "name": "#%% md\n"
    }
   }
  },
  {
   "cell_type": "code",
   "execution_count": 92,
   "outputs": [
    {
     "data": {
      "text/plain": "RandomizedSearchCV(cv=5,\n                   estimator=XGBClassifier(base_score=None, booster=None,\n                                           colsample_bylevel=None,\n                                           colsample_bynode=None,\n                                           colsample_bytree=None,\n                                           enable_categorical=False, gamma=None,\n                                           gpu_id=None, importance_type=None,\n                                           interaction_constraints=None,\n                                           learning_rate=None,\n                                           max_delta_step=None, max_depth=None,\n                                           min_child_weight=None, missing=nan,\n                                           monotone_constraints...\n                                           reg_alpha=None, reg_lambda=None,\n                                           scale_pos_weight=None,\n                                           subsample=None, tree_method=None,\n                                           use_label_encoder=False,\n                                           validate_parameters=None,\n                                           verbosity=0),\n                   n_iter=50,\n                   param_distributions={'gamma': [0.1, 0.01, 0.001],\n                                        'learning_rate': [0.1, 0.01, 0.001],\n                                        'max_depth': [2, 3, 4, 5],\n                                        'n_estimators': [10, 50, 100, 500,\n                                                         1000],\n                                        'reg_alpha': [0.1, 0.01, 0.001],\n                                        'reg_lambda': [0.1, 0.01, 0.001]},\n                   scoring='f1_micro')"
     },
     "execution_count": 92,
     "metadata": {},
     "output_type": "execute_result"
    }
   ],
   "source": [
    "rs_fi = random_search\n",
    "rs_fi.fit(X_train_fi, y_train_fi)"
   ],
   "metadata": {
    "collapsed": false,
    "pycharm": {
     "name": "#%%\n"
    }
   }
  },
  {
   "cell_type": "code",
   "execution_count": 93,
   "outputs": [
    {
     "name": "stdout",
     "output_type": "stream",
     "text": [
      "Best Parameters: {'reg_lambda': 0.1, 'reg_alpha': 0.01, 'n_estimators': 1000, 'max_depth': 5, 'learning_rate': 0.1, 'gamma': 0.01}\n",
      "Best micro-f1 score: 0.7374476088124665\n"
     ]
    }
   ],
   "source": [
    "print(f\"Best Parameters: {rs_fi.best_params_}\")\n",
    "print(f\"Best micro-f1 score: {rs_fi.best_score_}\")"
   ],
   "metadata": {
    "collapsed": false,
    "pycharm": {
     "name": "#%%\n"
    }
   }
  },
  {
   "cell_type": "markdown",
   "source": [
    "## Create Prediction Dataset"
   ],
   "metadata": {
    "collapsed": false,
    "pycharm": {
     "name": "#%% md\n"
    }
   }
  },
  {
   "cell_type": "code",
   "execution_count": 95,
   "outputs": [
    {
     "data": {
      "text/plain": "   building_id  geo_level_1_id  geo_level_2_id  geo_level_3_id  \\\n0       300051              17             596           11307   \n1        99355               6             141           11987   \n2       890251              22              19           10044   \n3       745817              26              39             633   \n4       421793              17             289            7970   \n\n   count_floors_pre_eq  age  area_percentage  height_percentage  \\\n0                    3   20                7                  6   \n1                    2   25               13                  5   \n2                    2    5                4                  5   \n3                    1    0               19                  3   \n4                    3   15                8                  7   \n\n  land_surface_condition foundation_type  ... has_secondary_use_agriculture  \\\n0                      t               r  ...                             0   \n1                      t               r  ...                             1   \n2                      t               r  ...                             0   \n3                      t               r  ...                             0   \n4                      t               r  ...                             0   \n\n  has_secondary_use_hotel has_secondary_use_rental  \\\n0                       0                        0   \n1                       0                        0   \n2                       0                        0   \n3                       0                        1   \n4                       0                        0   \n\n  has_secondary_use_institution has_secondary_use_school  \\\n0                             0                        0   \n1                             0                        0   \n2                             0                        0   \n3                             0                        0   \n4                             0                        0   \n\n   has_secondary_use_industry  has_secondary_use_health_post  \\\n0                           0                              0   \n1                           0                              0   \n2                           0                              0   \n3                           0                              0   \n4                           0                              0   \n\n   has_secondary_use_gov_office  has_secondary_use_use_police  \\\n0                             0                             0   \n1                             0                             0   \n2                             0                             0   \n3                             0                             0   \n4                             0                             0   \n\n   has_secondary_use_other  \n0                        0  \n1                        0  \n2                        0  \n3                        0  \n4                        0  \n\n[5 rows x 39 columns]",
      "text/html": "<div>\n<style scoped>\n    .dataframe tbody tr th:only-of-type {\n        vertical-align: middle;\n    }\n\n    .dataframe tbody tr th {\n        vertical-align: top;\n    }\n\n    .dataframe thead th {\n        text-align: right;\n    }\n</style>\n<table border=\"1\" class=\"dataframe\">\n  <thead>\n    <tr style=\"text-align: right;\">\n      <th></th>\n      <th>building_id</th>\n      <th>geo_level_1_id</th>\n      <th>geo_level_2_id</th>\n      <th>geo_level_3_id</th>\n      <th>count_floors_pre_eq</th>\n      <th>age</th>\n      <th>area_percentage</th>\n      <th>height_percentage</th>\n      <th>land_surface_condition</th>\n      <th>foundation_type</th>\n      <th>...</th>\n      <th>has_secondary_use_agriculture</th>\n      <th>has_secondary_use_hotel</th>\n      <th>has_secondary_use_rental</th>\n      <th>has_secondary_use_institution</th>\n      <th>has_secondary_use_school</th>\n      <th>has_secondary_use_industry</th>\n      <th>has_secondary_use_health_post</th>\n      <th>has_secondary_use_gov_office</th>\n      <th>has_secondary_use_use_police</th>\n      <th>has_secondary_use_other</th>\n    </tr>\n  </thead>\n  <tbody>\n    <tr>\n      <th>0</th>\n      <td>300051</td>\n      <td>17</td>\n      <td>596</td>\n      <td>11307</td>\n      <td>3</td>\n      <td>20</td>\n      <td>7</td>\n      <td>6</td>\n      <td>t</td>\n      <td>r</td>\n      <td>...</td>\n      <td>0</td>\n      <td>0</td>\n      <td>0</td>\n      <td>0</td>\n      <td>0</td>\n      <td>0</td>\n      <td>0</td>\n      <td>0</td>\n      <td>0</td>\n      <td>0</td>\n    </tr>\n    <tr>\n      <th>1</th>\n      <td>99355</td>\n      <td>6</td>\n      <td>141</td>\n      <td>11987</td>\n      <td>2</td>\n      <td>25</td>\n      <td>13</td>\n      <td>5</td>\n      <td>t</td>\n      <td>r</td>\n      <td>...</td>\n      <td>1</td>\n      <td>0</td>\n      <td>0</td>\n      <td>0</td>\n      <td>0</td>\n      <td>0</td>\n      <td>0</td>\n      <td>0</td>\n      <td>0</td>\n      <td>0</td>\n    </tr>\n    <tr>\n      <th>2</th>\n      <td>890251</td>\n      <td>22</td>\n      <td>19</td>\n      <td>10044</td>\n      <td>2</td>\n      <td>5</td>\n      <td>4</td>\n      <td>5</td>\n      <td>t</td>\n      <td>r</td>\n      <td>...</td>\n      <td>0</td>\n      <td>0</td>\n      <td>0</td>\n      <td>0</td>\n      <td>0</td>\n      <td>0</td>\n      <td>0</td>\n      <td>0</td>\n      <td>0</td>\n      <td>0</td>\n    </tr>\n    <tr>\n      <th>3</th>\n      <td>745817</td>\n      <td>26</td>\n      <td>39</td>\n      <td>633</td>\n      <td>1</td>\n      <td>0</td>\n      <td>19</td>\n      <td>3</td>\n      <td>t</td>\n      <td>r</td>\n      <td>...</td>\n      <td>0</td>\n      <td>0</td>\n      <td>1</td>\n      <td>0</td>\n      <td>0</td>\n      <td>0</td>\n      <td>0</td>\n      <td>0</td>\n      <td>0</td>\n      <td>0</td>\n    </tr>\n    <tr>\n      <th>4</th>\n      <td>421793</td>\n      <td>17</td>\n      <td>289</td>\n      <td>7970</td>\n      <td>3</td>\n      <td>15</td>\n      <td>8</td>\n      <td>7</td>\n      <td>t</td>\n      <td>r</td>\n      <td>...</td>\n      <td>0</td>\n      <td>0</td>\n      <td>0</td>\n      <td>0</td>\n      <td>0</td>\n      <td>0</td>\n      <td>0</td>\n      <td>0</td>\n      <td>0</td>\n      <td>0</td>\n    </tr>\n  </tbody>\n</table>\n<p>5 rows × 39 columns</p>\n</div>"
     },
     "execution_count": 95,
     "metadata": {},
     "output_type": "execute_result"
    }
   ],
   "source": [
    "test_val = pd.read_csv('test_values.csv')\n",
    "test_val.head()"
   ],
   "metadata": {
    "collapsed": false,
    "pycharm": {
     "name": "#%%\n"
    }
   }
  },
  {
   "cell_type": "code",
   "execution_count": 97,
   "outputs": [],
   "source": [
    "test_val['age_transform'] = yeojohnson(test_val['age'])[0]\n",
    "test_val['area_percentage_transform'] = np.log(test_val['area_percentage'])\n",
    "test_val['height_percentage_transform'] = np.log(test_val['height_percentage'])\n",
    "test_val['new_count_families'] = test_val['count_families'].apply(convert_count_families)"
   ],
   "metadata": {
    "collapsed": false,
    "pycharm": {
     "name": "#%%\n"
    }
   }
  },
  {
   "cell_type": "code",
   "execution_count": 98,
   "outputs": [],
   "source": [
    "test_val_fi = test_val[numeric_fi + categorical_fi + binary_fi]"
   ],
   "metadata": {
    "collapsed": false,
    "pycharm": {
     "name": "#%%\n"
    }
   }
  },
  {
   "cell_type": "code",
   "execution_count": 99,
   "outputs": [],
   "source": [
    "preprocessor_test = ColumnTransformer(\n",
    "    transformers=[\n",
    "        (\"num\", numeric_transformer, numeric_fi),\n",
    "        (\"cat\", categorical_transformer, categorical_fi),\n",
    "        (\"binary\", binary_transformer, binary_fi)\n",
    "    ]\n",
    ")\n",
    "\n",
    "X_test_final = preprocessor_test.fit_transform(test_val_fi)"
   ],
   "metadata": {
    "collapsed": false,
    "pycharm": {
     "name": "#%%\n"
    }
   }
  },
  {
   "cell_type": "code",
   "execution_count": 120,
   "outputs": [],
   "source": [
    "dm_train_fi = xgboost.DMatrix(data_transform_fi, label=label)\n",
    "\n",
    "param_final = {'reg_lambda': 0.1,\n",
    "               'reg_alpha': 0.01,\n",
    "               'n_estimators': 1000,\n",
    "               'max_depth': 5,\n",
    "               'learning_rate': 0.1,\n",
    "               'gamma': 0.01,\n",
    "               'num_class': 3,\n",
    "               'objective': 'multi:softmax'}\n",
    "\n",
    "final_model = xgboost.train(param_final, dm_train_fi)"
   ],
   "metadata": {
    "collapsed": false,
    "pycharm": {
     "name": "#%%\n"
    }
   }
  },
  {
   "cell_type": "code",
   "execution_count": 121,
   "outputs": [],
   "source": [
    "dm_test_final = xgboost.DMatrix(X_test_final)\n",
    "predict = final_model.predict(dm_test_final)"
   ],
   "metadata": {
    "collapsed": false,
    "pycharm": {
     "name": "#%%\n"
    }
   }
  },
  {
   "cell_type": "code",
   "execution_count": 127,
   "outputs": [],
   "source": [
    "submit_prediction = pd.DataFrame()\n",
    "submit_prediction['buiding_id'] = test_val['building_id']\n",
    "submit_prediction['damage_grade'] = predict + 1\n",
    "submit_prediction['damage_grade'] = submit_prediction['damage_grade'].apply(lambda x: int(x))"
   ],
   "metadata": {
    "collapsed": false,
    "pycharm": {
     "name": "#%%\n"
    }
   }
  },
  {
   "cell_type": "code",
   "execution_count": 128,
   "outputs": [
    {
     "data": {
      "text/plain": "   buiding_id  damage_grade\n0      300051             3\n1       99355             2\n2      890251             2\n3      745817             2\n4      421793             3",
      "text/html": "<div>\n<style scoped>\n    .dataframe tbody tr th:only-of-type {\n        vertical-align: middle;\n    }\n\n    .dataframe tbody tr th {\n        vertical-align: top;\n    }\n\n    .dataframe thead th {\n        text-align: right;\n    }\n</style>\n<table border=\"1\" class=\"dataframe\">\n  <thead>\n    <tr style=\"text-align: right;\">\n      <th></th>\n      <th>buiding_id</th>\n      <th>damage_grade</th>\n    </tr>\n  </thead>\n  <tbody>\n    <tr>\n      <th>0</th>\n      <td>300051</td>\n      <td>3</td>\n    </tr>\n    <tr>\n      <th>1</th>\n      <td>99355</td>\n      <td>2</td>\n    </tr>\n    <tr>\n      <th>2</th>\n      <td>890251</td>\n      <td>2</td>\n    </tr>\n    <tr>\n      <th>3</th>\n      <td>745817</td>\n      <td>2</td>\n    </tr>\n    <tr>\n      <th>4</th>\n      <td>421793</td>\n      <td>3</td>\n    </tr>\n  </tbody>\n</table>\n</div>"
     },
     "execution_count": 128,
     "metadata": {},
     "output_type": "execute_result"
    }
   ],
   "source": [
    "submit_prediction.head()"
   ],
   "metadata": {
    "collapsed": false,
    "pycharm": {
     "name": "#%%\n"
    }
   }
  },
  {
   "cell_type": "code",
   "execution_count": 129,
   "outputs": [],
   "source": [
    "submit_prediction.to_csv('submission.csv', index=False)"
   ],
   "metadata": {
    "collapsed": false,
    "pycharm": {
     "name": "#%%\n"
    }
   }
  }
 ],
 "metadata": {
  "kernelspec": {
   "name": "jupyter-dataspell-309",
   "language": "python",
   "display_name": "jupyter-dataspell-309"
  },
  "language_info": {
   "codemirror_mode": {
    "name": "ipython",
    "version": 2
   },
   "file_extension": ".py",
   "mimetype": "text/x-python",
   "name": "python",
   "nbconvert_exporter": "python",
   "pygments_lexer": "ipython2",
   "version": "2.7.6"
  }
 },
 "nbformat": 4,
 "nbformat_minor": 0
}