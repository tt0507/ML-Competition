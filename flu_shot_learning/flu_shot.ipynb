{
 "cells": [
  {
   "cell_type": "markdown",
   "source": [
    "# Flu Shot Prediction"
   ],
   "metadata": {
    "collapsed": false,
    "pycharm": {
     "name": "#%% md\n"
    }
   }
  },
  {
   "cell_type": "code",
   "execution_count": 74,
   "metadata": {
    "collapsed": true
   },
   "outputs": [],
   "source": [
    "import pandas as pd\n",
    "from sklearn.preprocessing import OrdinalEncoder, OneHotEncoder, FunctionTransformer\n",
    "from sklearn.compose import make_column_transformer\n",
    "from sklearn.pipeline import make_pipeline\n",
    "from sklearn.metrics import roc_auc_score, roc_curve\n",
    "import xgboost as xgb\n",
    "from sklearn.model_selection import train_test_split, RandomizedSearchCV\n",
    "import shap\n",
    "from mlxtend.feature_selection import SequentialFeatureSelector as SFS\n",
    "import matplotlib.pyplot as plt\n",
    "import numpy as np"
   ]
  },
  {
   "cell_type": "code",
   "execution_count": 2,
   "outputs": [],
   "source": [
    "train_data = pd.read_csv('training_set_features.csv')\n",
    "label = pd.read_csv('training_set_labels.csv')\n",
    "test_data = pd.read_csv('test_set_features.csv')"
   ],
   "metadata": {
    "collapsed": false,
    "pycharm": {
     "name": "#%%\n"
    }
   }
  },
  {
   "cell_type": "code",
   "execution_count": 3,
   "outputs": [],
   "source": [
    "train_data = train_data.drop(columns=['respondent_id'])\n",
    "test_data = test_data.drop(columns=['respondent_id'])"
   ],
   "metadata": {
    "collapsed": false,
    "pycharm": {
     "name": "#%%\n"
    }
   }
  },
  {
   "cell_type": "code",
   "execution_count": 4,
   "outputs": [],
   "source": [
    "numerical = train_data.select_dtypes('number').columns\n",
    "\n",
    "categorical = ['race', 'sex', 'marital_status', 'rent_or_own', 'hhs_geo_region',\n",
    "               'census_msa', 'employment_industry', 'employment_occupation']\n",
    "\n",
    "ordinal = ['age_group', 'education', 'income_poverty', 'employment_status']"
   ],
   "metadata": {
    "collapsed": false,
    "pycharm": {
     "name": "#%%\n"
    }
   }
  },
  {
   "cell_type": "markdown",
   "source": [
    "## Imputing Values"
   ],
   "metadata": {
    "collapsed": false,
    "pycharm": {
     "name": "#%% md\n"
    }
   }
  },
  {
   "cell_type": "code",
   "execution_count": 5,
   "outputs": [
    {
     "data": {
      "text/plain": "h1n1_concern                    0.344479\nh1n1_knowledge                  0.434343\nbehavioral_antiviral_meds       0.265848\nbehavioral_avoidance            0.778822\nbehavioral_face_mask            0.071142\nbehavioral_wash_hands           0.157262\nbehavioral_large_gatherings     0.325757\nbehavioral_outside_home         0.307036\nbehavioral_touch_face           0.479275\ndoctor_recc_h1n1                8.087767\ndoctor_recc_seasonal            8.087767\nchronic_med_condition           3.635751\nchild_under_6_months            3.070356\nhealth_worker                   3.010447\nhealth_insurance               45.957989\nopinion_h1n1_vacc_effective     1.464036\nopinion_h1n1_risk               1.452803\nopinion_h1n1_sick_from_vacc     1.479013\nopinion_seas_vacc_effective     1.729884\nopinion_seas_risk               1.924589\nopinion_seas_sick_from_vacc     2.010709\nage_group                       0.000000\neducation                       5.268282\nrace                            0.000000\nsex                             0.000000\nincome_poverty                 16.561201\nmarital_status                  5.272026\nrent_or_own                     7.645936\nemployment_status               5.477965\nhhs_geo_region                  0.000000\ncensus_msa                      0.000000\nhousehold_adults                0.932340\nhousehold_children              0.932340\nemployment_industry            49.912008\nemployment_occupation          50.436215\ndtype: float64"
     },
     "execution_count": 5,
     "metadata": {},
     "output_type": "execute_result"
    }
   ],
   "source": [
    "(train_data.isna().sum() / len(train_data)) * 100"
   ],
   "metadata": {
    "collapsed": false,
    "pycharm": {
     "name": "#%%\n"
    }
   }
  },
  {
   "cell_type": "code",
   "execution_count": 6,
   "outputs": [],
   "source": [
    "for col in (categorical + ordinal):\n",
    "    train_data[col] = train_data[col].fillna(value='NA')\n",
    "    test_data[col] = test_data[col].fillna(value='NA')\n",
    "\n",
    "for n in numerical:\n",
    "    train_data[n] = train_data[n].fillna(value=-1)\n",
    "    test_data[n] = test_data[n].fillna(value=-1)"
   ],
   "metadata": {
    "collapsed": false,
    "pycharm": {
     "name": "#%%\n"
    }
   }
  },
  {
   "cell_type": "code",
   "execution_count": 7,
   "outputs": [
    {
     "data": {
      "text/plain": "h1n1_concern                   0.0\nh1n1_knowledge                 0.0\nbehavioral_antiviral_meds      0.0\nbehavioral_avoidance           0.0\nbehavioral_face_mask           0.0\nbehavioral_wash_hands          0.0\nbehavioral_large_gatherings    0.0\nbehavioral_outside_home        0.0\nbehavioral_touch_face          0.0\ndoctor_recc_h1n1               0.0\ndoctor_recc_seasonal           0.0\nchronic_med_condition          0.0\nchild_under_6_months           0.0\nhealth_worker                  0.0\nhealth_insurance               0.0\nopinion_h1n1_vacc_effective    0.0\nopinion_h1n1_risk              0.0\nopinion_h1n1_sick_from_vacc    0.0\nopinion_seas_vacc_effective    0.0\nopinion_seas_risk              0.0\nopinion_seas_sick_from_vacc    0.0\nage_group                      0.0\neducation                      0.0\nrace                           0.0\nsex                            0.0\nincome_poverty                 0.0\nmarital_status                 0.0\nrent_or_own                    0.0\nemployment_status              0.0\nhhs_geo_region                 0.0\ncensus_msa                     0.0\nhousehold_adults               0.0\nhousehold_children             0.0\nemployment_industry            0.0\nemployment_occupation          0.0\ndtype: float64"
     },
     "execution_count": 7,
     "metadata": {},
     "output_type": "execute_result"
    }
   ],
   "source": [
    "(train_data.isna().sum() / len(train_data)) * 100"
   ],
   "metadata": {
    "collapsed": false,
    "pycharm": {
     "name": "#%%\n"
    }
   }
  },
  {
   "cell_type": "markdown",
   "source": [
    "## Pipeline"
   ],
   "metadata": {
    "collapsed": false,
    "pycharm": {
     "name": "#%% md\n"
    }
   }
  },
  {
   "cell_type": "code",
   "execution_count": 8,
   "outputs": [],
   "source": [
    "train_data_ordered = train_data[list(numerical.values) + ordinal + categorical]"
   ],
   "metadata": {
    "collapsed": false,
    "pycharm": {
     "name": "#%%\n"
    }
   }
  },
  {
   "cell_type": "code",
   "execution_count": 9,
   "outputs": [],
   "source": [
    "numerical_pipeline = make_pipeline(FunctionTransformer())\n",
    "\n",
    "categorical_pipeline = make_pipeline(OneHotEncoder())\n",
    "\n",
    "ordinal_pipeline = make_pipeline(OrdinalEncoder())\n",
    "\n",
    "transformer = make_column_transformer(\n",
    "    (numerical_pipeline, numerical),\n",
    "    (ordinal_pipeline, ordinal),\n",
    "    (categorical_pipeline, categorical),\n",
    "    remainder='passthrough'\n",
    ")"
   ],
   "metadata": {
    "collapsed": false,
    "pycharm": {
     "name": "#%%\n"
    }
   }
  },
  {
   "cell_type": "code",
   "execution_count": 10,
   "outputs": [],
   "source": [
    "train_transformed_numpy = transformer.fit_transform(train_data_ordered)"
   ],
   "metadata": {
    "collapsed": false,
    "pycharm": {
     "name": "#%%\n"
    }
   }
  },
  {
   "cell_type": "code",
   "execution_count": 11,
   "outputs": [],
   "source": [
    "one_hot_encoder_feature_names = transformer.transformers_[2][1][0].get_feature_names_out()"
   ],
   "metadata": {
    "collapsed": false,
    "pycharm": {
     "name": "#%%\n"
    }
   }
  },
  {
   "cell_type": "code",
   "execution_count": 12,
   "outputs": [],
   "source": [
    "train_transformed = pd.DataFrame(train_transformed_numpy,\n",
    "                                 columns=list(numerical.values) + ordinal + list(one_hot_encoder_feature_names),\n",
    "                                 index=train_data.index)"
   ],
   "metadata": {
    "collapsed": false,
    "pycharm": {
     "name": "#%%\n"
    }
   }
  },
  {
   "cell_type": "code",
   "execution_count": 13,
   "outputs": [
    {
     "data": {
      "text/plain": "   h1n1_concern  h1n1_knowledge  behavioral_antiviral_meds  \\\n0           1.0             0.0                        0.0   \n1           3.0             2.0                        0.0   \n2           1.0             1.0                        0.0   \n3           1.0             1.0                        0.0   \n4           2.0             1.0                        0.0   \n\n   behavioral_avoidance  behavioral_face_mask  behavioral_wash_hands  \\\n0                   0.0                   0.0                    0.0   \n1                   1.0                   0.0                    1.0   \n2                   1.0                   0.0                    0.0   \n3                   1.0                   0.0                    1.0   \n4                   1.0                   0.0                    1.0   \n\n   behavioral_large_gatherings  behavioral_outside_home  \\\n0                          0.0                      1.0   \n1                          0.0                      1.0   \n2                          0.0                      0.0   \n3                          1.0                      0.0   \n4                          1.0                      0.0   \n\n   behavioral_touch_face  doctor_recc_h1n1  ...  \\\n0                    1.0               0.0  ...   \n1                    1.0               0.0  ...   \n2                    0.0              -1.0  ...   \n3                    0.0               0.0  ...   \n4                    1.0               0.0  ...   \n\n   employment_occupation_qxajmpny  employment_occupation_rcertsgn  \\\n0                             0.0                             0.0   \n1                             0.0                             0.0   \n2                             0.0                             0.0   \n3                             0.0                             0.0   \n4                             0.0                             0.0   \n\n   employment_occupation_tfqavkke  employment_occupation_ukymxvdu  \\\n0                             0.0                             0.0   \n1                             0.0                             0.0   \n2                             0.0                             0.0   \n3                             0.0                             0.0   \n4                             0.0                             0.0   \n\n   employment_occupation_uqqtjvyb  employment_occupation_vlluhbov  \\\n0                             0.0                             0.0   \n1                             0.0                             0.0   \n2                             0.0                             0.0   \n3                             0.0                             0.0   \n4                             0.0                             0.0   \n\n   employment_occupation_xgwztkwe  employment_occupation_xqwwgdyp  \\\n0                             0.0                             0.0   \n1                             1.0                             0.0   \n2                             0.0                             0.0   \n3                             0.0                             0.0   \n4                             0.0                             0.0   \n\n   employment_occupation_xtkaffoo  employment_occupation_xzmlyyjv  \n0                             0.0                             0.0  \n1                             0.0                             0.0  \n2                             1.0                             0.0  \n3                             0.0                             0.0  \n4                             0.0                             0.0  \n\n[5 rows x 98 columns]",
      "text/html": "<div>\n<style scoped>\n    .dataframe tbody tr th:only-of-type {\n        vertical-align: middle;\n    }\n\n    .dataframe tbody tr th {\n        vertical-align: top;\n    }\n\n    .dataframe thead th {\n        text-align: right;\n    }\n</style>\n<table border=\"1\" class=\"dataframe\">\n  <thead>\n    <tr style=\"text-align: right;\">\n      <th></th>\n      <th>h1n1_concern</th>\n      <th>h1n1_knowledge</th>\n      <th>behavioral_antiviral_meds</th>\n      <th>behavioral_avoidance</th>\n      <th>behavioral_face_mask</th>\n      <th>behavioral_wash_hands</th>\n      <th>behavioral_large_gatherings</th>\n      <th>behavioral_outside_home</th>\n      <th>behavioral_touch_face</th>\n      <th>doctor_recc_h1n1</th>\n      <th>...</th>\n      <th>employment_occupation_qxajmpny</th>\n      <th>employment_occupation_rcertsgn</th>\n      <th>employment_occupation_tfqavkke</th>\n      <th>employment_occupation_ukymxvdu</th>\n      <th>employment_occupation_uqqtjvyb</th>\n      <th>employment_occupation_vlluhbov</th>\n      <th>employment_occupation_xgwztkwe</th>\n      <th>employment_occupation_xqwwgdyp</th>\n      <th>employment_occupation_xtkaffoo</th>\n      <th>employment_occupation_xzmlyyjv</th>\n    </tr>\n  </thead>\n  <tbody>\n    <tr>\n      <th>0</th>\n      <td>1.0</td>\n      <td>0.0</td>\n      <td>0.0</td>\n      <td>0.0</td>\n      <td>0.0</td>\n      <td>0.0</td>\n      <td>0.0</td>\n      <td>1.0</td>\n      <td>1.0</td>\n      <td>0.0</td>\n      <td>...</td>\n      <td>0.0</td>\n      <td>0.0</td>\n      <td>0.0</td>\n      <td>0.0</td>\n      <td>0.0</td>\n      <td>0.0</td>\n      <td>0.0</td>\n      <td>0.0</td>\n      <td>0.0</td>\n      <td>0.0</td>\n    </tr>\n    <tr>\n      <th>1</th>\n      <td>3.0</td>\n      <td>2.0</td>\n      <td>0.0</td>\n      <td>1.0</td>\n      <td>0.0</td>\n      <td>1.0</td>\n      <td>0.0</td>\n      <td>1.0</td>\n      <td>1.0</td>\n      <td>0.0</td>\n      <td>...</td>\n      <td>0.0</td>\n      <td>0.0</td>\n      <td>0.0</td>\n      <td>0.0</td>\n      <td>0.0</td>\n      <td>0.0</td>\n      <td>1.0</td>\n      <td>0.0</td>\n      <td>0.0</td>\n      <td>0.0</td>\n    </tr>\n    <tr>\n      <th>2</th>\n      <td>1.0</td>\n      <td>1.0</td>\n      <td>0.0</td>\n      <td>1.0</td>\n      <td>0.0</td>\n      <td>0.0</td>\n      <td>0.0</td>\n      <td>0.0</td>\n      <td>0.0</td>\n      <td>-1.0</td>\n      <td>...</td>\n      <td>0.0</td>\n      <td>0.0</td>\n      <td>0.0</td>\n      <td>0.0</td>\n      <td>0.0</td>\n      <td>0.0</td>\n      <td>0.0</td>\n      <td>0.0</td>\n      <td>1.0</td>\n      <td>0.0</td>\n    </tr>\n    <tr>\n      <th>3</th>\n      <td>1.0</td>\n      <td>1.0</td>\n      <td>0.0</td>\n      <td>1.0</td>\n      <td>0.0</td>\n      <td>1.0</td>\n      <td>1.0</td>\n      <td>0.0</td>\n      <td>0.0</td>\n      <td>0.0</td>\n      <td>...</td>\n      <td>0.0</td>\n      <td>0.0</td>\n      <td>0.0</td>\n      <td>0.0</td>\n      <td>0.0</td>\n      <td>0.0</td>\n      <td>0.0</td>\n      <td>0.0</td>\n      <td>0.0</td>\n      <td>0.0</td>\n    </tr>\n    <tr>\n      <th>4</th>\n      <td>2.0</td>\n      <td>1.0</td>\n      <td>0.0</td>\n      <td>1.0</td>\n      <td>0.0</td>\n      <td>1.0</td>\n      <td>1.0</td>\n      <td>0.0</td>\n      <td>1.0</td>\n      <td>0.0</td>\n      <td>...</td>\n      <td>0.0</td>\n      <td>0.0</td>\n      <td>0.0</td>\n      <td>0.0</td>\n      <td>0.0</td>\n      <td>0.0</td>\n      <td>0.0</td>\n      <td>0.0</td>\n      <td>0.0</td>\n      <td>0.0</td>\n    </tr>\n  </tbody>\n</table>\n<p>5 rows × 98 columns</p>\n</div>"
     },
     "execution_count": 13,
     "metadata": {},
     "output_type": "execute_result"
    }
   ],
   "source": [
    "train_transformed.head()"
   ],
   "metadata": {
    "collapsed": false,
    "pycharm": {
     "name": "#%%\n"
    }
   }
  },
  {
   "cell_type": "markdown",
   "source": [
    "## Feature Selection"
   ],
   "metadata": {
    "collapsed": false,
    "pycharm": {
     "name": "#%% md\n"
    }
   }
  },
  {
   "cell_type": "code",
   "execution_count": 21,
   "outputs": [],
   "source": [
    "def print_best_score_and_parameter(search):\n",
    "    print(f\"Best Score: {search.best_score_}\")\n",
    "    print(f\"Best parameters: {search.best_params_}\")"
   ],
   "metadata": {
    "collapsed": false,
    "pycharm": {
     "name": "#%%\n"
    }
   }
  },
  {
   "cell_type": "code",
   "execution_count": 36,
   "outputs": [],
   "source": [
    "parameters = {\"objective\": \"binary:logistic\",\n",
    "              'verbosity': 0,\n",
    "              \"eval_metric\": \"auc\"}"
   ],
   "metadata": {
    "collapsed": false,
    "pycharm": {
     "name": "#%%\n"
    }
   }
  },
  {
   "cell_type": "code",
   "execution_count": 102,
   "outputs": [],
   "source": [
    "X_train, X_val, y_train, y_val = train_test_split(train_transformed,\n",
    "                                                  label['h1n1_vaccine'],\n",
    "                                                  test_size=0.2,\n",
    "                                                  shuffle=True)\n",
    "\n",
    "X_train_sv, X_val_sv, y_train_sv, y_val_sv = train_test_split(train_transformed,\n",
    "                                                              label['seasonal_vaccine'],\n",
    "                                                              test_size=0.2,\n",
    "                                                              shuffle=True)"
   ],
   "metadata": {
    "collapsed": false,
    "pycharm": {
     "name": "#%%\n"
    }
   }
  },
  {
   "cell_type": "code",
   "execution_count": 103,
   "outputs": [],
   "source": [
    "dtrain = xgb.DMatrix(X_train, label=y_train)\n",
    "dvalid = xgb.DMatrix(X_val, label=y_val)\n",
    "\n",
    "dtrain_sv = xgb.DMatrix(X_train_sv, label=y_train_sv)\n",
    "dvalid_sv = xgb.DMatrix(X_val_sv, label=y_val_sv)"
   ],
   "metadata": {
    "collapsed": false,
    "pycharm": {
     "name": "#%%\n"
    }
   }
  },
  {
   "cell_type": "markdown",
   "source": [
    "### h1n1_vaccine"
   ],
   "metadata": {
    "collapsed": false,
    "pycharm": {
     "name": "#%% md\n"
    }
   }
  },
  {
   "cell_type": "markdown",
   "source": [
    "#### Feature Importance"
   ],
   "metadata": {
    "collapsed": false,
    "pycharm": {
     "name": "#%% md\n"
    }
   }
  },
  {
   "cell_type": "code",
   "execution_count": 40,
   "outputs": [],
   "source": [
    "h1n1_feature_selection = xgb.train(parameters,\n",
    "                                   dtrain,\n",
    "                                   num_boost_round=500,\n",
    "                                   early_stopping_rounds=30,\n",
    "                                   evals=[(dtrain, 'train'), (dvalid, 'eval')],\n",
    "                                   verbose_eval=False)"
   ],
   "metadata": {
    "collapsed": false,
    "pycharm": {
     "name": "#%%\n"
    }
   }
  },
  {
   "cell_type": "code",
   "execution_count": 67,
   "outputs": [
    {
     "data": {
      "text/plain": "<Figure size 432x288 with 1 Axes>",
      "image/png": "[encoded data removed]"
     },
     "metadata": {
      "needs_background": "light"
     },
     "output_type": "display_data"
    }
   ],
   "source": [
    "xgb.plot_importance(h1n1_feature_selection, max_num_features=20)\n",
    "plt.show()"
   ],
   "metadata": {
    "collapsed": false,
    "pycharm": {
     "name": "#%%\n"
    }
   }
  },
  {
   "cell_type": "markdown",
   "source": [
    "#### SHAP Value"
   ],
   "metadata": {
    "collapsed": false,
    "pycharm": {
     "name": "#%% md\n"
    }
   }
  },
  {
   "cell_type": "code",
   "execution_count": 42,
   "outputs": [],
   "source": [
    "h1n1_explainer = shap.TreeExplainer(h1n1_feature_selection)\n",
    "shap_values = h1n1_explainer.shap_values(dtrain)"
   ],
   "metadata": {
    "collapsed": false,
    "pycharm": {
     "name": "#%%\n"
    }
   }
  },
  {
   "cell_type": "code",
   "execution_count": 47,
   "outputs": [
    {
     "data": {
      "text/plain": "<Figure size 576x684 with 1 Axes>",
      "image/png": "[encoded data removed]"
     },
     "metadata": {
      "needs_background": "light"
     },
     "output_type": "display_data"
    }
   ],
   "source": [
    "shap.summary_plot(shap_values,\n",
    "                  plot_type=\"bar\",\n",
    "                  feature_names=X_train.columns)"
   ],
   "metadata": {
    "collapsed": false,
    "pycharm": {
     "name": "#%%\n"
    }
   }
  },
  {
   "cell_type": "markdown",
   "source": [
    "#### Forward Selection"
   ],
   "metadata": {
    "collapsed": false,
    "pycharm": {
     "name": "#%% md\n"
    }
   }
  },
  {
   "cell_type": "code",
   "execution_count": 57,
   "outputs": [],
   "source": [
    "h1n1_forward_search = SFS(xgb.XGBClassifier(objective='binary:logistic',\n",
    "                                            use_label_encoder=False,\n",
    "                                            eval_metric=\"auc\"),\n",
    "                          k_features=20,\n",
    "                          forward=True,\n",
    "                          floating=False,\n",
    "                          scoring='roc_auc',\n",
    "                          cv=5,\n",
    "                          verbose=0,\n",
    "                          n_jobs=-1)"
   ],
   "metadata": {
    "collapsed": false,
    "pycharm": {
     "name": "#%%\n"
    }
   }
  },
  {
   "cell_type": "code",
   "execution_count": 58,
   "outputs": [
    {
     "data": {
      "text/plain": "SequentialFeatureSelector(estimator=XGBClassifier(base_score=None, booster=None,\n                                                  colsample_bylevel=None,\n                                                  colsample_bynode=None,\n                                                  colsample_bytree=None,\n                                                  enable_categorical=False,\n                                                  eval_metric='auc', gamma=None,\n                                                  gpu_id=None,\n                                                  importance_type=None,\n                                                  interaction_constraints=None,\n                                                  learning_rate=None,\n                                                  max_delta_step=None,\n                                                  max_depth=None,\n                                                  min_child_weight=None,\n                                                  missing=nan,\n                                                  monotone_constraints=None,\n                                                  n_estimators=100, n_jobs=None,\n                                                  num_parallel_tree=None,\n                                                  predictor=None,\n                                                  random_state=None,\n                                                  reg_alpha=None,\n                                                  reg_lambda=None,\n                                                  scale_pos_weight=None,\n                                                  subsample=None,\n                                                  tree_method=None,\n                                                  use_label_encoder=False,\n                                                  validate_parameters=None,\n                                                  verbosity=None),\n                          k_features=20, n_jobs=-1, scoring='roc_auc')"
     },
     "execution_count": 58,
     "metadata": {},
     "output_type": "execute_result"
    }
   ],
   "source": [
    "h1n1_forward_search.fit(train_transformed, label['h1n1_vaccine'])"
   ],
   "metadata": {
    "collapsed": false,
    "pycharm": {
     "name": "#%%\n"
    }
   }
  },
  {
   "cell_type": "code",
   "execution_count": 59,
   "outputs": [],
   "source": [
    "h1n1_fsd = pd.DataFrame.from_dict(h1n1_forward_search.get_metric_dict()).T"
   ],
   "metadata": {
    "collapsed": false,
    "pycharm": {
     "name": "#%%\n"
    }
   }
  },
  {
   "cell_type": "markdown",
   "source": [
    "#### Aggreate Result"
   ],
   "metadata": {
    "collapsed": false,
    "pycharm": {
     "name": "#%% md\n"
    }
   }
  },
  {
   "cell_type": "code",
   "execution_count": 92,
   "outputs": [],
   "source": [
    "# get top 20 column from feature importance\n",
    "fi_top_20_h1n1 = list(h1n1_feature_selection.get_score().keys())[:20]\n",
    "\n",
    "# get top 20 columns from SHAP\n",
    "vals = np.abs(shap_values).mean(0)\n",
    "shap_h1n1 = pd.DataFrame(list(zip(X_train.columns, vals)), columns=['col_name', 'feature_importance_vals'])\n",
    "shap_h1n1.sort_values(by=['feature_importance_vals'], ascending=False, inplace=True)\n",
    "shap_top_20_h1n1 = list(shap_h1n1['col_name'][:20].values)\n",
    "\n",
    "# get top 20 columns from forward selection\n",
    "top_20_forward_h1n1 = [i for i in h1n1_fsd.tail(1)['feature_names'].values[0]]"
   ],
   "metadata": {
    "collapsed": false,
    "pycharm": {
     "name": "#%%\n"
    }
   }
  },
  {
   "cell_type": "markdown",
   "source": [
    "### seasonal_vaccine"
   ],
   "metadata": {
    "collapsed": false,
    "pycharm": {
     "name": "#%% md\n"
    }
   }
  },
  {
   "cell_type": "markdown",
   "source": [
    "#### Feature Importance"
   ],
   "metadata": {
    "collapsed": false,
    "pycharm": {
     "name": "#%% md\n"
    }
   }
  },
  {
   "cell_type": "code",
   "execution_count": 104,
   "outputs": [],
   "source": [
    "sv_feature_selection = xgb.train(parameters,\n",
    "                                 dtrain_sv,\n",
    "                                 num_boost_round=500,\n",
    "                                 early_stopping_rounds=30,\n",
    "                                 evals=[(dtrain_sv, 'train'), (dvalid_sv, 'eval')],\n",
    "                                 verbose_eval=False)"
   ],
   "metadata": {
    "collapsed": false,
    "pycharm": {
     "name": "#%%\n"
    }
   }
  },
  {
   "cell_type": "code",
   "execution_count": 105,
   "outputs": [
    {
     "data": {
      "text/plain": "<Figure size 432x288 with 1 Axes>",
      "image/png": "[encoded data removed]"
     },
     "metadata": {
      "needs_background": "light"
     },
     "output_type": "display_data"
    }
   ],
   "source": [
    "xgb.plot_importance(sv_feature_selection, max_num_features=20)\n",
    "plt.show()"
   ],
   "metadata": {
    "collapsed": false,
    "pycharm": {
     "name": "#%%\n"
    }
   }
  },
  {
   "cell_type": "markdown",
   "source": [
    "#### SHAP"
   ],
   "metadata": {
    "collapsed": false,
    "pycharm": {
     "name": "#%% md\n"
    }
   }
  },
  {
   "cell_type": "code",
   "execution_count": 106,
   "outputs": [],
   "source": [
    "sv_explainer = shap.TreeExplainer(sv_feature_selection)\n",
    "shap_values_sv = sv_explainer.shap_values(dtrain_sv)"
   ],
   "metadata": {
    "collapsed": false,
    "pycharm": {
     "name": "#%%\n"
    }
   }
  },
  {
   "cell_type": "code",
   "execution_count": 107,
   "outputs": [
    {
     "data": {
      "text/plain": "<Figure size 576x684 with 1 Axes>",
      "image/png": "[encoded data removed]"
     },
     "metadata": {
      "needs_background": "light"
     },
     "output_type": "display_data"
    }
   ],
   "source": [
    "shap.summary_plot(shap_values_sv,\n",
    "                  plot_type=\"bar\",\n",
    "                  feature_names=X_train.columns)"
   ],
   "metadata": {
    "collapsed": false,
    "pycharm": {
     "name": "#%%\n"
    }
   }
  },
  {
   "cell_type": "markdown",
   "source": [
    "#### Forward Selection"
   ],
   "metadata": {
    "collapsed": false,
    "pycharm": {
     "name": "#%% md\n"
    }
   }
  },
  {
   "cell_type": "code",
   "execution_count": 109,
   "outputs": [],
   "source": [
    "sv_forward_search = SFS(xgb.XGBClassifier(objective='binary:logistic',\n",
    "                                          use_label_encoder=False,\n",
    "                                          eval_metric=\"auc\"),\n",
    "                        k_features=20,\n",
    "                        forward=True,\n",
    "                        floating=False,\n",
    "                        scoring='roc_auc',\n",
    "                        cv=5,\n",
    "                        verbose=0,\n",
    "                        n_jobs=-1)"
   ],
   "metadata": {
    "collapsed": false,
    "pycharm": {
     "name": "#%%\n"
    }
   }
  },
  {
   "cell_type": "code",
   "execution_count": 111,
   "outputs": [
    {
     "data": {
      "text/plain": "SequentialFeatureSelector(estimator=XGBClassifier(base_score=None, booster=None,\n                                                  colsample_bylevel=None,\n                                                  colsample_bynode=None,\n                                                  colsample_bytree=None,\n                                                  enable_categorical=False,\n                                                  eval_metric='auc', gamma=None,\n                                                  gpu_id=None,\n                                                  importance_type=None,\n                                                  interaction_constraints=None,\n                                                  learning_rate=None,\n                                                  max_delta_step=None,\n                                                  max_depth=None,\n                                                  min_child_weight=None,\n                                                  missing=nan,\n                                                  monotone_constraints=None,\n                                                  n_estimators=100, n_jobs=None,\n                                                  num_parallel_tree=None,\n                                                  predictor=None,\n                                                  random_state=None,\n                                                  reg_alpha=None,\n                                                  reg_lambda=None,\n                                                  scale_pos_weight=None,\n                                                  subsample=None,\n                                                  tree_method=None,\n                                                  use_label_encoder=False,\n                                                  validate_parameters=None,\n                                                  verbosity=None),\n                          k_features=20, n_jobs=-1, scoring='roc_auc')"
     },
     "execution_count": 111,
     "metadata": {},
     "output_type": "execute_result"
    }
   ],
   "source": [
    "sv_forward_search.fit(train_transformed, label['seasonal_vaccine'])"
   ],
   "metadata": {
    "collapsed": false,
    "pycharm": {
     "name": "#%%\n"
    }
   }
  },
  {
   "cell_type": "code",
   "execution_count": 112,
   "outputs": [],
   "source": [
    "sv_fsd = pd.DataFrame.from_dict(sv_forward_search.get_metric_dict()).T"
   ],
   "metadata": {
    "collapsed": false,
    "pycharm": {
     "name": "#%%\n"
    }
   }
  },
  {
   "cell_type": "markdown",
   "source": [
    "#### Aggregate Result"
   ],
   "metadata": {
    "collapsed": false,
    "pycharm": {
     "name": "#%% md\n"
    }
   }
  },
  {
   "cell_type": "code",
   "execution_count": 115,
   "outputs": [],
   "source": [
    "# get top 20 column from feature importance\n",
    "fi_top_20_sv = list(sv_feature_selection.get_score().keys())[:20]\n",
    "\n",
    "# get top 20 columns from SHAP\n",
    "vals_sv = np.abs(shap_values_sv).mean(0)\n",
    "shap_sv = pd.DataFrame(list(zip(X_train.columns, vals_sv)),\n",
    "                       columns=['col_name', 'feature_importance_vals'])\n",
    "shap_sv.sort_values(by=['feature_importance_vals'], ascending=False, inplace=True)\n",
    "shap_top_20_sv = list(shap_sv['col_name'][:20].values)\n",
    "\n",
    "# get top 20 columns from forward selection\n",
    "top_20_forward_sv = [i for i in sv_fsd.tail(1)['feature_names'].values[0]]"
   ],
   "metadata": {
    "collapsed": false,
    "pycharm": {
     "name": "#%%\n"
    }
   }
  },
  {
   "cell_type": "markdown",
   "source": [
    "## Cross Validation and Hyperparameter Selection"
   ],
   "metadata": {
    "collapsed": false,
    "pycharm": {
     "name": "#%% md\n"
    }
   }
  },
  {
   "cell_type": "code",
   "execution_count": 122,
   "outputs": [],
   "source": [
    "# manually assign top 20 variables to avoid running feature selection again\n",
    "fi_top_20_h1n1 = ['h1n1_concern', 'h1n1_knowledge', 'behavioral_antiviral_meds',\n",
    "                  'behavioral_avoidance', 'behavioral_face_mask',\n",
    "                  'behavioral_wash_hands', 'behavioral_large_gatherings',\n",
    "                  'behavioral_outside_home', 'behavioral_touch_face',\n",
    "                  'doctor_recc_h1n1', 'doctor_recc_seasonal',\n",
    "                  'chronic_med_condition', 'child_under_6_months',\n",
    "                  'health_worker', 'health_insurance',\n",
    "                  'opinion_h1n1_vacc_effective', 'opinion_h1n1_risk',\n",
    "                  'opinion_h1n1_sick_from_vacc', 'opinion_seas_vacc_effective',\n",
    "                  'opinion_seas_risk']\n",
    "\n",
    "shap_top_20_h1n1 = ['doctor_recc_h1n1', 'health_insurance', 'opinion_h1n1_risk',\n",
    "                    'opinion_h1n1_vacc_effective', 'opinion_seas_risk',\n",
    "                    'health_worker', 'age_group', 'doctor_recc_seasonal',\n",
    "                    'opinion_h1n1_sick_from_vacc', 'sex_Female',\n",
    "                    'h1n1_knowledge', 'income_poverty',\n",
    "                    'opinion_seas_sick_from_vacc', 'education',\n",
    "                    'opinion_seas_vacc_effective', 'h1n1_concern',\n",
    "                    'household_adults', 'behavioral_large_gatherings',\n",
    "                    'chronic_med_condition', 'household_children']\n",
    "\n",
    "top_20_forward_h1n1 = ['h1n1_knowledge', 'doctor_recc_h1n1', 'doctor_recc_seasonal',\n",
    "                       'health_worker', 'health_insurance',\n",
    "                       'opinion_h1n1_vacc_effective', 'opinion_h1n1_risk',\n",
    "                       'opinion_seas_risk', 'race_Black', 'marital_status_NA',\n",
    "                       'hhs_geo_region_bhuqouqj',\n",
    "                       'employment_industry_arjwrbjb',\n",
    "                       'employment_industry_haxffmxo',\n",
    "                       'employment_industry_msuufmds',\n",
    "                       'employment_industry_qnlwzans',\n",
    "                       'employment_industry_vjjrobsf',\n",
    "                       'employment_industry_wlfvacwt',\n",
    "                       'employment_occupation_hfxkjkmi',\n",
    "                       'employment_occupation_kldqjyjy',\n",
    "                       'employment_occupation_qxajmpny']\n",
    "\n",
    "fi_top_20_sv = ['h1n1_concern',\n",
    "                'h1n1_knowledge',\n",
    "                'behavioral_antiviral_meds',\n",
    "                'behavioral_avoidance',\n",
    "                'behavioral_face_mask',\n",
    "                'behavioral_wash_hands',\n",
    "                'behavioral_large_gatherings',\n",
    "                'behavioral_outside_home',\n",
    "                'behavioral_touch_face',\n",
    "                'doctor_recc_h1n1',\n",
    "                'doctor_recc_seasonal',\n",
    "                'chronic_med_condition',\n",
    "                'child_under_6_months',\n",
    "                'health_worker',\n",
    "                'health_insurance',\n",
    "                'opinion_h1n1_vacc_effective',\n",
    "                'opinion_h1n1_risk',\n",
    "                'opinion_h1n1_sick_from_vacc',\n",
    "                'opinion_seas_vacc_effective',\n",
    "                'opinion_seas_risk']\n",
    "\n",
    "shap_top_20_sv = ['opinion_seas_vacc_effective',\n",
    "                  'opinion_seas_risk',\n",
    "                  'doctor_recc_seasonal',\n",
    "                  'age_group',\n",
    "                  'opinion_seas_sick_from_vacc',\n",
    "                  'health_insurance',\n",
    "                  'education',\n",
    "                  'h1n1_knowledge',\n",
    "                  'health_worker',\n",
    "                  'chronic_med_condition',\n",
    "                  'behavioral_touch_face',\n",
    "                  'opinion_h1n1_risk',\n",
    "                  'opinion_h1n1_sick_from_vacc',\n",
    "                  'rent_or_own_Rent',\n",
    "                  'doctor_recc_h1n1',\n",
    "                  'opinion_h1n1_vacc_effective',\n",
    "                  'income_poverty',\n",
    "                  'h1n1_concern',\n",
    "                  'household_children',\n",
    "                  'race_Black']\n",
    "\n",
    "top_20_forward_sv = ['h1n1_knowledge',\n",
    "                     'doctor_recc_h1n1',\n",
    "                     'doctor_recc_seasonal',\n",
    "                     'chronic_med_condition',\n",
    "                     'health_worker',\n",
    "                     'health_insurance',\n",
    "                     'opinion_h1n1_risk',\n",
    "                     'opinion_seas_vacc_effective',\n",
    "                     'opinion_seas_risk',\n",
    "                     'opinion_seas_sick_from_vacc',\n",
    "                     'age_group',\n",
    "                     'marital_status_Not Married',\n",
    "                     'employment_industry_atmlpfrs',\n",
    "                     'employment_industry_haxffmxo',\n",
    "                     'employment_industry_wlfvacwt',\n",
    "                     'employment_occupation_dcjcmpih',\n",
    "                     'employment_occupation_mxkfnird',\n",
    "                     'employment_occupation_qxajmpny',\n",
    "                     'employment_occupation_ukymxvdu',\n",
    "                     'employment_occupation_uqqtjvyb']"
   ],
   "metadata": {
    "collapsed": false,
    "pycharm": {
     "name": "#%%\n"
    }
   }
  },
  {
   "cell_type": "code",
   "execution_count": 127,
   "outputs": [],
   "source": [
    "# hyperparameter for XGBoost\n",
    "param_grid = {\n",
    "    'max_depth': [6, 10, 15, 20],\n",
    "    'learning_rate': [0.001, 0.01, 0.1, 0.2, 0, 3],\n",
    "    'subsample': [0.5, 0.6, 0.7, 0.8, 0.9, 1.0],\n",
    "    'colsample_bytree': [0.4, 0.5, 0.6, 0.7, 0.8, 0.9, 1.0],\n",
    "    'colsample_bylevel': [0.4, 0.5, 0.6, 0.7, 0.8, 0.9, 1.0],\n",
    "    'min_child_weight': [0.5, 1.0, 3.0, 5.0, 7.0, 10.0],\n",
    "    'gamma': [0, 0.25, 0.5, 1.0],\n",
    "    'reg_lambda': [0.1, 1.0, 5.0, 10.0, 50.0, 100.0],\n",
    "    'n_estimators': [10, 50, 100]\n",
    "}"
   ],
   "metadata": {
    "collapsed": false,
    "pycharm": {
     "name": "#%%\n"
    }
   }
  },
  {
   "cell_type": "code",
   "execution_count": 126,
   "outputs": [],
   "source": [
    "# define train data according to selected columns\n",
    "fi_h1n1 = train_transformed[fi_top_20_h1n1]\n",
    "shap_h1n1 = train_transformed[shap_top_20_h1n1]\n",
    "forward_h1n1 = train_transformed[top_20_forward_h1n1]\n",
    "\n",
    "fi_sv = train_transformed[fi_top_20_sv]\n",
    "shap_sv = train_transformed[shap_top_20_sv]\n",
    "forward_sv = train_transformed[top_20_forward_sv]"
   ],
   "metadata": {
    "collapsed": false,
    "pycharm": {
     "name": "#%%\n"
    }
   }
  },
  {
   "cell_type": "code",
   "execution_count": 132,
   "outputs": [],
   "source": [
    "# define classifier\n",
    "clf = xgb.XGBClassifier(objective=\"binary:logistic\", eval_metric=\"auc\",\n",
    "                        use_label_encoder=False)"
   ],
   "metadata": {
    "collapsed": false,
    "pycharm": {
     "name": "#%%\n"
    }
   }
  },
  {
   "cell_type": "code",
   "execution_count": 138,
   "outputs": [],
   "source": [
    "def get_cross_validation(classifier, param, train, test):\n",
    "    rs = RandomizedSearchCV(classifier, param, n_iter=50,\n",
    "                            n_jobs=1, verbose=0, cv=5,\n",
    "                            scoring='roc_auc', random_state=42)\n",
    "    rs.fit(train, label['h1n1_vaccine'])\n",
    "    print_best_score_and_parameter(rs)\n",
    "\n",
    "    return rs"
   ],
   "metadata": {
    "collapsed": false,
    "pycharm": {
     "name": "#%%\n"
    }
   }
  },
  {
   "cell_type": "markdown",
   "source": [
    "#### Best hyper-parameters and ROCAUC scores"
   ],
   "metadata": {
    "collapsed": false,
    "pycharm": {
     "name": "#%% md\n"
    }
   }
  },
  {
   "cell_type": "code",
   "execution_count": 139,
   "outputs": [
    {
     "name": "stdout",
     "output_type": "stream",
     "text": [
      "Best Score: 0.8636275621340428\n",
      "Best parameters: {'subsample': 1.0, 'reg_lambda': 100.0, 'n_estimators': 100, 'min_child_weight': 3.0, 'max_depth': 20, 'learning_rate': 0.2, 'gamma': 0.5, 'colsample_bytree': 0.5, 'colsample_bylevel': 0.4}\n"
     ]
    }
   ],
   "source": [
    "fi_h1n1_rs = get_cross_validation(clf, param_grid, fi_h1n1, label['h1n1_vaccine'])"
   ],
   "metadata": {
    "collapsed": false,
    "pycharm": {
     "name": "#%%\n"
    }
   }
  },
  {
   "cell_type": "code",
   "execution_count": 140,
   "outputs": [
    {
     "name": "stdout",
     "output_type": "stream",
     "text": [
      "Best Score: 0.8665085492389956\n",
      "Best parameters: {'subsample': 1.0, 'reg_lambda': 100.0, 'n_estimators': 100, 'min_child_weight': 3.0, 'max_depth': 20, 'learning_rate': 0.2, 'gamma': 0.5, 'colsample_bytree': 0.5, 'colsample_bylevel': 0.4}\n"
     ]
    }
   ],
   "source": [
    "shap_h1n1_rs = get_cross_validation(clf, param_grid, shap_h1n1, label['h1n1_vaccine'])"
   ],
   "metadata": {
    "collapsed": false,
    "pycharm": {
     "name": "#%%\n"
    }
   }
  },
  {
   "cell_type": "code",
   "execution_count": 141,
   "outputs": [
    {
     "name": "stdout",
     "output_type": "stream",
     "text": [
      "Best Score: 0.8645361743253435\n",
      "Best parameters: {'subsample': 0.9, 'reg_lambda': 10.0, 'n_estimators': 100, 'min_child_weight': 1.0, 'max_depth': 6, 'learning_rate': 0.2, 'gamma': 1.0, 'colsample_bytree': 0.6, 'colsample_bylevel': 0.9}\n"
     ]
    }
   ],
   "source": [
    "fs_h1n1_rs = get_cross_validation(clf, param_grid, forward_h1n1, label['h1n1_vaccine'])"
   ],
   "metadata": {
    "collapsed": false,
    "pycharm": {
     "name": "#%%\n"
    }
   }
  },
  {
   "cell_type": "code",
   "execution_count": 142,
   "outputs": [
    {
     "name": "stdout",
     "output_type": "stream",
     "text": [
      "Best Score: 0.8636275621340428\n",
      "Best parameters: {'subsample': 1.0, 'reg_lambda': 100.0, 'n_estimators': 100, 'min_child_weight': 3.0, 'max_depth': 20, 'learning_rate': 0.2, 'gamma': 0.5, 'colsample_bytree': 0.5, 'colsample_bylevel': 0.4}\n"
     ]
    }
   ],
   "source": [
    "fi_sv_rs = get_cross_validation(clf, param_grid, fi_sv, label['seasonal_vaccine'])"
   ],
   "metadata": {
    "collapsed": false,
    "pycharm": {
     "name": "#%%\n"
    }
   }
  },
  {
   "cell_type": "code",
   "execution_count": 143,
   "outputs": [
    {
     "name": "stdout",
     "output_type": "stream",
     "text": [
      "Best Score: 0.8656752124103797\n",
      "Best parameters: {'subsample': 1.0, 'reg_lambda': 100.0, 'n_estimators': 100, 'min_child_weight': 3.0, 'max_depth': 20, 'learning_rate': 0.2, 'gamma': 0.5, 'colsample_bytree': 0.5, 'colsample_bylevel': 0.4}\n"
     ]
    }
   ],
   "source": [
    "shap_sv_rs = get_cross_validation(clf, param_grid, shap_sv, label['seasonal_vaccine'])"
   ],
   "metadata": {
    "collapsed": false,
    "pycharm": {
     "name": "#%%\n"
    }
   }
  },
  {
   "cell_type": "code",
   "execution_count": 144,
   "outputs": [
    {
     "name": "stdout",
     "output_type": "stream",
     "text": [
      "Best Score: 0.8558200133734196\n",
      "Best parameters: {'subsample': 1.0, 'reg_lambda': 50.0, 'n_estimators': 50, 'min_child_weight': 1.0, 'max_depth': 10, 'learning_rate': 0.2, 'gamma': 0.5, 'colsample_bytree': 0.6, 'colsample_bylevel': 0.7}\n"
     ]
    }
   ],
   "source": [
    "forward_sv_rs = get_cross_validation(clf, param_grid, forward_sv,\n",
    "                                     label['seasonal_vaccine'])"
   ],
   "metadata": {
    "collapsed": false,
    "pycharm": {
     "name": "#%%\n"
    }
   }
  },
  {
   "cell_type": "markdown",
   "source": [
    "## Prediction"
   ],
   "metadata": {
    "collapsed": false,
    "pycharm": {
     "name": "#%% md\n"
    }
   }
  },
  {
   "cell_type": "code",
   "execution_count": 145,
   "outputs": [],
   "source": [
    "test_transformed = transformer.transform(test_data)"
   ],
   "metadata": {
    "collapsed": false,
    "pycharm": {
     "name": "#%%\n"
    }
   }
  },
  {
   "cell_type": "code",
   "execution_count": 147,
   "outputs": [],
   "source": [
    "test = pd.DataFrame(test_transformed,\n",
    "                    columns=list(numerical.values) + ordinal + list(one_hot_encoder_feature_names),\n",
    "                    index=test_data.index)"
   ],
   "metadata": {
    "collapsed": false,
    "pycharm": {
     "name": "#%%\n"
    }
   }
  },
  {
   "cell_type": "code",
   "execution_count": 149,
   "outputs": [],
   "source": [
    "h1n1_test = test[shap_top_20_h1n1]\n",
    "sv_test = test[shap_top_20_sv]"
   ],
   "metadata": {
    "collapsed": false,
    "pycharm": {
     "name": "#%%\n"
    }
   }
  },
  {
   "cell_type": "code",
   "execution_count": 152,
   "outputs": [],
   "source": [
    "h1n1_predict = shap_h1n1_rs.predict_proba(h1n1_test)\n",
    "sv_predict = shap_sv_rs.predict_proba(sv_test)"
   ],
   "metadata": {
    "collapsed": false,
    "pycharm": {
     "name": "#%%\n"
    }
   }
  },
  {
   "cell_type": "code",
   "execution_count": 155,
   "outputs": [],
   "source": [
    "h1n1_submission = h1n1_predict[:,1].reshape(-1,1)\n",
    "sv_submission = sv_predict[:,1].reshape(-1,1)"
   ],
   "metadata": {
    "collapsed": false,
    "pycharm": {
     "name": "#%%\n"
    }
   }
  },
  {
   "cell_type": "markdown",
   "source": [
    "## Submission"
   ],
   "metadata": {
    "collapsed": false,
    "pycharm": {
     "name": "#%% md\n"
    }
   }
  },
  {
   "cell_type": "code",
   "execution_count": 156,
   "outputs": [
    {
     "data": {
      "text/plain": "   respondent_id  h1n1_vaccine  seasonal_vaccine\n0          26707           0.5               0.7\n1          26708           0.5               0.7\n2          26709           0.5               0.7\n3          26710           0.5               0.7\n4          26711           0.5               0.7",
      "text/html": "<div>\n<style scoped>\n    .dataframe tbody tr th:only-of-type {\n        vertical-align: middle;\n    }\n\n    .dataframe tbody tr th {\n        vertical-align: top;\n    }\n\n    .dataframe thead th {\n        text-align: right;\n    }\n</style>\n<table border=\"1\" class=\"dataframe\">\n  <thead>\n    <tr style=\"text-align: right;\">\n      <th></th>\n      <th>respondent_id</th>\n      <th>h1n1_vaccine</th>\n      <th>seasonal_vaccine</th>\n    </tr>\n  </thead>\n  <tbody>\n    <tr>\n      <th>0</th>\n      <td>26707</td>\n      <td>0.5</td>\n      <td>0.7</td>\n    </tr>\n    <tr>\n      <th>1</th>\n      <td>26708</td>\n      <td>0.5</td>\n      <td>0.7</td>\n    </tr>\n    <tr>\n      <th>2</th>\n      <td>26709</td>\n      <td>0.5</td>\n      <td>0.7</td>\n    </tr>\n    <tr>\n      <th>3</th>\n      <td>26710</td>\n      <td>0.5</td>\n      <td>0.7</td>\n    </tr>\n    <tr>\n      <th>4</th>\n      <td>26711</td>\n      <td>0.5</td>\n      <td>0.7</td>\n    </tr>\n  </tbody>\n</table>\n</div>"
     },
     "execution_count": 156,
     "metadata": {},
     "output_type": "execute_result"
    }
   ],
   "source": [
    "submission = pd.read_csv('submission_format.csv')\n",
    "submission.head()"
   ],
   "metadata": {
    "collapsed": false,
    "pycharm": {
     "name": "#%%\n"
    }
   }
  },
  {
   "cell_type": "code",
   "execution_count": 157,
   "outputs": [],
   "source": [
    "submission['h1n1_vaccine'] = h1n1_submission\n",
    "submission['seasonal_vaccine'] = sv_submission"
   ],
   "metadata": {
    "collapsed": false,
    "pycharm": {
     "name": "#%%\n"
    }
   }
  },
  {
   "cell_type": "code",
   "execution_count": 158,
   "outputs": [
    {
     "data": {
      "text/plain": "   respondent_id  h1n1_vaccine  seasonal_vaccine\n0          26707      0.145791          0.162188\n1          26708      0.031792          0.040185\n2          26709      0.184144          0.236494\n3          26710      0.634631          0.629811\n4          26711      0.416499          0.232808",
      "text/html": "<div>\n<style scoped>\n    .dataframe tbody tr th:only-of-type {\n        vertical-align: middle;\n    }\n\n    .dataframe tbody tr th {\n        vertical-align: top;\n    }\n\n    .dataframe thead th {\n        text-align: right;\n    }\n</style>\n<table border=\"1\" class=\"dataframe\">\n  <thead>\n    <tr style=\"text-align: right;\">\n      <th></th>\n      <th>respondent_id</th>\n      <th>h1n1_vaccine</th>\n      <th>seasonal_vaccine</th>\n    </tr>\n  </thead>\n  <tbody>\n    <tr>\n      <th>0</th>\n      <td>26707</td>\n      <td>0.145791</td>\n      <td>0.162188</td>\n    </tr>\n    <tr>\n      <th>1</th>\n      <td>26708</td>\n      <td>0.031792</td>\n      <td>0.040185</td>\n    </tr>\n    <tr>\n      <th>2</th>\n      <td>26709</td>\n      <td>0.184144</td>\n      <td>0.236494</td>\n    </tr>\n    <tr>\n      <th>3</th>\n      <td>26710</td>\n      <td>0.634631</td>\n      <td>0.629811</td>\n    </tr>\n    <tr>\n      <th>4</th>\n      <td>26711</td>\n      <td>0.416499</td>\n      <td>0.232808</td>\n    </tr>\n  </tbody>\n</table>\n</div>"
     },
     "execution_count": 158,
     "metadata": {},
     "output_type": "execute_result"
    }
   ],
   "source": [
    "submission.head()"
   ],
   "metadata": {
    "collapsed": false,
    "pycharm": {
     "name": "#%%\n"
    }
   }
  },
  {
   "cell_type": "code",
   "execution_count": 160,
   "outputs": [],
   "source": [
    "submission.to_csv('submission.csv', index=False)"
   ],
   "metadata": {
    "collapsed": false,
    "pycharm": {
     "name": "#%%\n"
    }
   }
  }
 ],
 "metadata": {
  "kernelspec": {
   "name": "jupyter-dataspell-309",
   "language": "python",
   "display_name": "jupyter-dataspell-309"
  },
  "language_info": {
   "codemirror_mode": {
    "name": "ipython",
    "version": 2
   },
   "file_extension": ".py",
   "mimetype": "text/x-python",
   "name": "python",
   "nbconvert_exporter": "python",
   "pygments_lexer": "ipython2",
   "version": "2.7.6"
  }
 },
 "nbformat": 4,
 "nbformat_minor": 0
}