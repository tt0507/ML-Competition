{
 "cells": [
  {
   "cell_type": "markdown",
   "metadata": {
    "collapsed": true,
    "pycharm": {
     "name": "#%% md\n"
    }
   },
   "source": [
    "# Exploratory Data Analysis"
   ]
  },
  {
   "cell_type": "code",
   "execution_count": 142,
   "outputs": [],
   "source": [
    "import pandas as pd\n",
    "from sklearn.preprocessing import OrdinalEncoder, OneHotEncoder\n",
    "from sklearn.compose import ColumnTransformer\n",
    "from sklearn.pipeline import Pipeline\n",
    "from sklearn.model_selection import train_test_split, RandomizedSearchCV\n",
    "from sklearn.metrics import roc_auc_score\n",
    "import xgboost as xgb\n",
    "import numpy as np"
   ],
   "metadata": {
    "collapsed": false,
    "pycharm": {
     "name": "#%%\n"
    }
   }
  },
  {
   "cell_type": "code",
   "execution_count": 19,
   "outputs": [],
   "source": [
    "train_data = pd.read_csv('training_set_features.csv')\n",
    "label = pd.read_csv('training_set_labels.csv')\n",
    "df = pd.merge(train_data, label, how=\"left\", on=\"respondent_id\")"
   ],
   "metadata": {
    "collapsed": false,
    "pycharm": {
     "name": "#%%\n"
    }
   }
  },
  {
   "cell_type": "code",
   "execution_count": 6,
   "outputs": [
    {
     "data": {
      "text/plain": "   respondent_id  h1n1_concern  h1n1_knowledge  behavioral_antiviral_meds  \\\n0              0           1.0             0.0                        0.0   \n1              1           3.0             2.0                        0.0   \n2              2           1.0             1.0                        0.0   \n3              3           1.0             1.0                        0.0   \n4              4           2.0             1.0                        0.0   \n\n   behavioral_avoidance  behavioral_face_mask  behavioral_wash_hands  \\\n0                   0.0                   0.0                    0.0   \n1                   1.0                   0.0                    1.0   \n2                   1.0                   0.0                    0.0   \n3                   1.0                   0.0                    1.0   \n4                   1.0                   0.0                    1.0   \n\n   behavioral_large_gatherings  behavioral_outside_home  \\\n0                          0.0                      1.0   \n1                          0.0                      1.0   \n2                          0.0                      0.0   \n3                          1.0                      0.0   \n4                          1.0                      0.0   \n\n   behavioral_touch_face  ...  rent_or_own   employment_status  \\\n0                    1.0  ...          Own  Not in Labor Force   \n1                    1.0  ...         Rent            Employed   \n2                    0.0  ...          Own            Employed   \n3                    0.0  ...         Rent  Not in Labor Force   \n4                    1.0  ...          Own            Employed   \n\n   hhs_geo_region                census_msa  household_adults  \\\n0        oxchjgsf                   Non-MSA               0.0   \n1        bhuqouqj  MSA, Not Principle  City               0.0   \n2        qufhixun  MSA, Not Principle  City               2.0   \n3        lrircsnp       MSA, Principle City               0.0   \n4        qufhixun  MSA, Not Principle  City               1.0   \n\n   household_children  employment_industry  employment_occupation  \\\n0                 0.0                  NaN                    NaN   \n1                 0.0             pxcmvdjn               xgwztkwe   \n2                 0.0             rucpziij               xtkaffoo   \n3                 0.0                  NaN                    NaN   \n4                 0.0             wxleyezf               emcorrxb   \n\n   h1n1_vaccine  seasonal_vaccine  \n0             0                 0  \n1             0                 1  \n2             0                 0  \n3             0                 1  \n4             0                 0  \n\n[5 rows x 38 columns]",
      "text/html": "<div>\n<style scoped>\n    .dataframe tbody tr th:only-of-type {\n        vertical-align: middle;\n    }\n\n    .dataframe tbody tr th {\n        vertical-align: top;\n    }\n\n    .dataframe thead th {\n        text-align: right;\n    }\n</style>\n<table border=\"1\" class=\"dataframe\">\n  <thead>\n    <tr style=\"text-align: right;\">\n      <th></th>\n      <th>respondent_id</th>\n      <th>h1n1_concern</th>\n      <th>h1n1_knowledge</th>\n      <th>behavioral_antiviral_meds</th>\n      <th>behavioral_avoidance</th>\n      <th>behavioral_face_mask</th>\n      <th>behavioral_wash_hands</th>\n      <th>behavioral_large_gatherings</th>\n      <th>behavioral_outside_home</th>\n      <th>behavioral_touch_face</th>\n      <th>...</th>\n      <th>rent_or_own</th>\n      <th>employment_status</th>\n      <th>hhs_geo_region</th>\n      <th>census_msa</th>\n      <th>household_adults</th>\n      <th>household_children</th>\n      <th>employment_industry</th>\n      <th>employment_occupation</th>\n      <th>h1n1_vaccine</th>\n      <th>seasonal_vaccine</th>\n    </tr>\n  </thead>\n  <tbody>\n    <tr>\n      <th>0</th>\n      <td>0</td>\n      <td>1.0</td>\n      <td>0.0</td>\n      <td>0.0</td>\n      <td>0.0</td>\n      <td>0.0</td>\n      <td>0.0</td>\n      <td>0.0</td>\n      <td>1.0</td>\n      <td>1.0</td>\n      <td>...</td>\n      <td>Own</td>\n      <td>Not in Labor Force</td>\n      <td>oxchjgsf</td>\n      <td>Non-MSA</td>\n      <td>0.0</td>\n      <td>0.0</td>\n      <td>NaN</td>\n      <td>NaN</td>\n      <td>0</td>\n      <td>0</td>\n    </tr>\n    <tr>\n      <th>1</th>\n      <td>1</td>\n      <td>3.0</td>\n      <td>2.0</td>\n      <td>0.0</td>\n      <td>1.0</td>\n      <td>0.0</td>\n      <td>1.0</td>\n      <td>0.0</td>\n      <td>1.0</td>\n      <td>1.0</td>\n      <td>...</td>\n      <td>Rent</td>\n      <td>Employed</td>\n      <td>bhuqouqj</td>\n      <td>MSA, Not Principle  City</td>\n      <td>0.0</td>\n      <td>0.0</td>\n      <td>pxcmvdjn</td>\n      <td>xgwztkwe</td>\n      <td>0</td>\n      <td>1</td>\n    </tr>\n    <tr>\n      <th>2</th>\n      <td>2</td>\n      <td>1.0</td>\n      <td>1.0</td>\n      <td>0.0</td>\n      <td>1.0</td>\n      <td>0.0</td>\n      <td>0.0</td>\n      <td>0.0</td>\n      <td>0.0</td>\n      <td>0.0</td>\n      <td>...</td>\n      <td>Own</td>\n      <td>Employed</td>\n      <td>qufhixun</td>\n      <td>MSA, Not Principle  City</td>\n      <td>2.0</td>\n      <td>0.0</td>\n      <td>rucpziij</td>\n      <td>xtkaffoo</td>\n      <td>0</td>\n      <td>0</td>\n    </tr>\n    <tr>\n      <th>3</th>\n      <td>3</td>\n      <td>1.0</td>\n      <td>1.0</td>\n      <td>0.0</td>\n      <td>1.0</td>\n      <td>0.0</td>\n      <td>1.0</td>\n      <td>1.0</td>\n      <td>0.0</td>\n      <td>0.0</td>\n      <td>...</td>\n      <td>Rent</td>\n      <td>Not in Labor Force</td>\n      <td>lrircsnp</td>\n      <td>MSA, Principle City</td>\n      <td>0.0</td>\n      <td>0.0</td>\n      <td>NaN</td>\n      <td>NaN</td>\n      <td>0</td>\n      <td>1</td>\n    </tr>\n    <tr>\n      <th>4</th>\n      <td>4</td>\n      <td>2.0</td>\n      <td>1.0</td>\n      <td>0.0</td>\n      <td>1.0</td>\n      <td>0.0</td>\n      <td>1.0</td>\n      <td>1.0</td>\n      <td>0.0</td>\n      <td>1.0</td>\n      <td>...</td>\n      <td>Own</td>\n      <td>Employed</td>\n      <td>qufhixun</td>\n      <td>MSA, Not Principle  City</td>\n      <td>1.0</td>\n      <td>0.0</td>\n      <td>wxleyezf</td>\n      <td>emcorrxb</td>\n      <td>0</td>\n      <td>0</td>\n    </tr>\n  </tbody>\n</table>\n<p>5 rows × 38 columns</p>\n</div>"
     },
     "execution_count": 6,
     "metadata": {},
     "output_type": "execute_result"
    }
   ],
   "source": [
    "df.head()"
   ],
   "metadata": {
    "collapsed": false,
    "pycharm": {
     "name": "#%%\n"
    }
   }
  },
  {
   "cell_type": "code",
   "execution_count": 10,
   "outputs": [
    {
     "name": "stdout",
     "output_type": "stream",
     "text": [
      "<class 'pandas.core.frame.DataFrame'>\n",
      "Int64Index: 26707 entries, 0 to 26706\n",
      "Data columns (total 38 columns):\n",
      " #   Column                       Non-Null Count  Dtype  \n",
      "---  ------                       --------------  -----  \n",
      " 0   respondent_id                26707 non-null  int64  \n",
      " 1   h1n1_concern                 26615 non-null  float64\n",
      " 2   h1n1_knowledge               26591 non-null  float64\n",
      " 3   behavioral_antiviral_meds    26636 non-null  float64\n",
      " 4   behavioral_avoidance         26499 non-null  float64\n",
      " 5   behavioral_face_mask         26688 non-null  float64\n",
      " 6   behavioral_wash_hands        26665 non-null  float64\n",
      " 7   behavioral_large_gatherings  26620 non-null  float64\n",
      " 8   behavioral_outside_home      26625 non-null  float64\n",
      " 9   behavioral_touch_face        26579 non-null  float64\n",
      " 10  doctor_recc_h1n1             24547 non-null  float64\n",
      " 11  doctor_recc_seasonal         24547 non-null  float64\n",
      " 12  chronic_med_condition        25736 non-null  float64\n",
      " 13  child_under_6_months         25887 non-null  float64\n",
      " 14  health_worker                25903 non-null  float64\n",
      " 15  health_insurance             14433 non-null  float64\n",
      " 16  opinion_h1n1_vacc_effective  26316 non-null  float64\n",
      " 17  opinion_h1n1_risk            26319 non-null  float64\n",
      " 18  opinion_h1n1_sick_from_vacc  26312 non-null  float64\n",
      " 19  opinion_seas_vacc_effective  26245 non-null  float64\n",
      " 20  opinion_seas_risk            26193 non-null  float64\n",
      " 21  opinion_seas_sick_from_vacc  26170 non-null  float64\n",
      " 22  age_group                    26707 non-null  object \n",
      " 23  education                    25300 non-null  object \n",
      " 24  race                         26707 non-null  object \n",
      " 25  sex                          26707 non-null  object \n",
      " 26  income_poverty               22284 non-null  object \n",
      " 27  marital_status               25299 non-null  object \n",
      " 28  rent_or_own                  24665 non-null  object \n",
      " 29  employment_status            25244 non-null  object \n",
      " 30  hhs_geo_region               26707 non-null  object \n",
      " 31  census_msa                   26707 non-null  object \n",
      " 32  household_adults             26458 non-null  float64\n",
      " 33  household_children           26458 non-null  float64\n",
      " 34  employment_industry          13377 non-null  object \n",
      " 35  employment_occupation        13237 non-null  object \n",
      " 36  h1n1_vaccine                 26707 non-null  int64  \n",
      " 37  seasonal_vaccine             26707 non-null  int64  \n",
      "dtypes: float64(23), int64(3), object(12)\n",
      "memory usage: 7.9+ MB\n"
     ]
    }
   ],
   "source": [
    "df.info()"
   ],
   "metadata": {
    "collapsed": false,
    "pycharm": {
     "name": "#%%\n"
    }
   }
  },
  {
   "cell_type": "markdown",
   "source": [
    "## Checking for Null Values"
   ],
   "metadata": {
    "collapsed": false,
    "pycharm": {
     "name": "#%% md\n"
    }
   }
  },
  {
   "cell_type": "code",
   "execution_count": 11,
   "outputs": [
    {
     "data": {
      "text/plain": "respondent_id                  0.000000\nh1n1_concern                   0.003445\nh1n1_knowledge                 0.004343\nbehavioral_antiviral_meds      0.002658\nbehavioral_avoidance           0.007788\nbehavioral_face_mask           0.000711\nbehavioral_wash_hands          0.001573\nbehavioral_large_gatherings    0.003258\nbehavioral_outside_home        0.003070\nbehavioral_touch_face          0.004793\ndoctor_recc_h1n1               0.080878\ndoctor_recc_seasonal           0.080878\nchronic_med_condition          0.036358\nchild_under_6_months           0.030704\nhealth_worker                  0.030104\nhealth_insurance               0.459580\nopinion_h1n1_vacc_effective    0.014640\nopinion_h1n1_risk              0.014528\nopinion_h1n1_sick_from_vacc    0.014790\nopinion_seas_vacc_effective    0.017299\nopinion_seas_risk              0.019246\nopinion_seas_sick_from_vacc    0.020107\nage_group                      0.000000\neducation                      0.052683\nrace                           0.000000\nsex                            0.000000\nincome_poverty                 0.165612\nmarital_status                 0.052720\nrent_or_own                    0.076459\nemployment_status              0.054780\nhhs_geo_region                 0.000000\ncensus_msa                     0.000000\nhousehold_adults               0.009323\nhousehold_children             0.009323\nemployment_industry            0.499120\nemployment_occupation          0.504362\nh1n1_vaccine                   0.000000\nseasonal_vaccine               0.000000\ndtype: float64"
     },
     "execution_count": 11,
     "metadata": {},
     "output_type": "execute_result"
    }
   ],
   "source": [
    "# check number of null rows for each column\n",
    "df.isna().sum() / len(df)"
   ],
   "metadata": {
    "collapsed": false,
    "pycharm": {
     "name": "#%%\n"
    }
   }
  },
  {
   "cell_type": "markdown",
   "source": [
    "Since *employment_industry*, *employment_occupation*, and *health_insurance* have around 50% of the row empty, I dropped both columns"
   ],
   "metadata": {
    "collapsed": false,
    "pycharm": {
     "name": "#%% md\n"
    }
   }
  },
  {
   "cell_type": "code",
   "execution_count": 20,
   "outputs": [
    {
     "data": {
      "text/plain": "respondent_id                  0.000000\nh1n1_concern                   0.003445\nh1n1_knowledge                 0.004343\nbehavioral_antiviral_meds      0.002658\nbehavioral_avoidance           0.007788\nbehavioral_face_mask           0.000711\nbehavioral_wash_hands          0.001573\nbehavioral_large_gatherings    0.003258\nbehavioral_outside_home        0.003070\nbehavioral_touch_face          0.004793\ndoctor_recc_h1n1               0.080878\ndoctor_recc_seasonal           0.080878\nchronic_med_condition          0.036358\nchild_under_6_months           0.030704\nhealth_worker                  0.030104\nopinion_h1n1_vacc_effective    0.014640\nopinion_h1n1_risk              0.014528\nopinion_h1n1_sick_from_vacc    0.014790\nopinion_seas_vacc_effective    0.017299\nopinion_seas_risk              0.019246\nopinion_seas_sick_from_vacc    0.020107\nage_group                      0.000000\neducation                      0.052683\nrace                           0.000000\nsex                            0.000000\nincome_poverty                 0.165612\nmarital_status                 0.052720\nrent_or_own                    0.076459\nemployment_status              0.054780\nhhs_geo_region                 0.000000\ncensus_msa                     0.000000\nhousehold_adults               0.009323\nhousehold_children             0.009323\nh1n1_vaccine                   0.000000\nseasonal_vaccine               0.000000\ndtype: float64"
     },
     "execution_count": 20,
     "metadata": {},
     "output_type": "execute_result"
    }
   ],
   "source": [
    "df = df.drop(columns=['employment_industry', 'employment_occupation', 'health_insurance'])\n",
    "df.isna().sum() / len(df)"
   ],
   "metadata": {
    "collapsed": false,
    "pycharm": {
     "name": "#%%\n"
    }
   }
  },
  {
   "cell_type": "markdown",
   "source": [],
   "metadata": {
    "collapsed": false,
    "pycharm": {
     "name": "#%% md\n"
    }
   }
  },
  {
   "cell_type": "markdown",
   "source": [
    "## Imputing Missing Values"
   ],
   "metadata": {
    "collapsed": false,
    "pycharm": {
     "name": "#%% md\n"
    }
   }
  },
  {
   "cell_type": "markdown",
   "source": [
    "Since the dataset consists of many missing rows, I imputed the columns one by one by predicting the values of the missing row using other columns."
   ],
   "metadata": {
    "collapsed": false,
    "pycharm": {
     "name": "#%% md\n"
    }
   }
  },
  {
   "cell_type": "code",
   "execution_count": 38,
   "outputs": [],
   "source": [
    "# pipeline\n",
    "categorical_transformer = Pipeline(\n",
    "    steps=[(\"categorical\", OneHotEncoder())]\n",
    ")\n",
    "\n",
    "binary_transformer = Pipeline(\n",
    "    steps=[(\"ordinal\", OrdinalEncoder())]\n",
    ")"
   ],
   "metadata": {
    "collapsed": false,
    "pycharm": {
     "name": "#%%\n"
    }
   }
  },
  {
   "cell_type": "code",
   "execution_count": 160,
   "outputs": [],
   "source": [
    "def print_best_score_and_parameter(search):\n",
    "    print(f\"Best Score: {search.best_score_}\")\n",
    "    print(f\"Best parameters: {search.best_params_}\")"
   ],
   "metadata": {
    "collapsed": false,
    "pycharm": {
     "name": "#%%\n"
    }
   }
  },
  {
   "cell_type": "markdown",
   "source": [
    "### Education"
   ],
   "metadata": {
    "collapsed": false,
    "pycharm": {
     "name": "#%% md\n"
    }
   }
  },
  {
   "cell_type": "markdown",
   "source": [
    "To impute the values for the *education* column, I first removed all the NA values from the *employment_status* column. I used *age_group*, *employment_status*, *race*, *sex*, *census_msa*, *hhs_geo_region* to predict *education*."
   ],
   "metadata": {
    "collapsed": false,
    "pycharm": {
     "name": "#%% md\n"
    }
   }
  },
  {
   "cell_type": "code",
   "execution_count": 108,
   "outputs": [],
   "source": [
    "# subset relevant columns\n",
    "education_data = df[['age_group', 'employment_status', 'race', 'sex', 'census_msa', 'hhs_geo_region', 'education']]\n",
    "education_data_rna = education_data[education_data['employment_status'].notna()]\n",
    "education_data_rna = education_data_rna.reset_index()"
   ],
   "metadata": {
    "collapsed": false,
    "pycharm": {
     "name": "#%%\n"
    }
   }
  },
  {
   "cell_type": "code",
   "execution_count": 109,
   "outputs": [
    {
     "data": {
      "text/plain": "index                  0\nage_group              0\nemployment_status      0\nrace                   0\nsex                    0\ncensus_msa             0\nhhs_geo_region         0\neducation            157\ndtype: int64"
     },
     "execution_count": 109,
     "metadata": {},
     "output_type": "execute_result"
    }
   ],
   "source": [
    "education_data_rna.isna().sum()"
   ],
   "metadata": {
    "collapsed": false,
    "pycharm": {
     "name": "#%%\n"
    }
   }
  },
  {
   "cell_type": "code",
   "execution_count": 110,
   "outputs": [],
   "source": [
    "# select rows where education is null and use as test dataset\n",
    "education_nan_index = education_data_rna['education'][education_data_rna['education'].isna() == True].index.tolist()\n",
    "education_test = education_data_rna.iloc[education_nan_index]"
   ],
   "metadata": {
    "collapsed": false,
    "pycharm": {
     "name": "#%%\n"
    }
   }
  },
  {
   "cell_type": "code",
   "execution_count": 117,
   "outputs": [],
   "source": [
    "# select rows where education is not null and use as train dataset\n",
    "education_train = education_data_rna[education_data_rna['education'].notna()]"
   ],
   "metadata": {
    "collapsed": false,
    "pycharm": {
     "name": "#%%\n"
    }
   }
  },
  {
   "cell_type": "code",
   "execution_count": 120,
   "outputs": [],
   "source": [
    "education_categorical = ['employment_status', 'race', 'census_msa', 'hhs_geo_region']\n",
    "education_binary = ['age_group', 'sex']"
   ],
   "metadata": {
    "collapsed": false,
    "pycharm": {
     "name": "#%%\n"
    }
   }
  },
  {
   "cell_type": "code",
   "execution_count": 129,
   "outputs": [],
   "source": [
    "education_preprocessor = ColumnTransformer(\n",
    "    transformers=[\n",
    "        (\"cat\", categorical_transformer, education_categorical),\n",
    "        (\"binary\", binary_transformer, education_binary)\n",
    "    ]\n",
    ")"
   ],
   "metadata": {
    "collapsed": false,
    "pycharm": {
     "name": "#%%\n"
    }
   }
  },
  {
   "cell_type": "code",
   "execution_count": 136,
   "outputs": [],
   "source": [
    "# create training data\n",
    "education_train_transform = education_preprocessor.fit_transform(education_train[education_binary + education_categorical])\n",
    "education_train_label = OrdinalEncoder().fit_transform(education_train['education'].to_numpy().reshape(-1, 1)).astype(int)"
   ],
   "metadata": {
    "collapsed": false,
    "pycharm": {
     "name": "#%%\n"
    }
   }
  },
  {
   "cell_type": "code",
   "execution_count": 131,
   "outputs": [],
   "source": [
    "# create dataset to be used for prediction\n",
    "education_test_transform = education_preprocessor.transform(education_test[education_binary + education_categorical])"
   ],
   "metadata": {
    "collapsed": false,
    "pycharm": {
     "name": "#%%\n"
    }
   }
  },
  {
   "cell_type": "code",
   "execution_count": 143,
   "outputs": [],
   "source": [
    "education_model = xgb.XGBClassifier(objective=\"multi:softmax\", verbosity=0, use_label_encoder=False)"
   ],
   "metadata": {
    "collapsed": false,
    "pycharm": {
     "name": "#%%\n"
    }
   }
  },
  {
   "cell_type": "code",
   "execution_count": 144,
   "outputs": [],
   "source": [
    "education_parameter = {\"learning_rate\": [0.05, 0.10, 0.15, 0.20, 0.25, 0.30],\n",
    "                       \"max_depth\": [3, 4, 5, 6, 8, 10, 12, 15],\n",
    "                       \"min_child_weight\": [1, 3, 5, 7],\n",
    "                       \"gamma\": [0.0, 0.1, 0.2, 0.3, 0.4],\n",
    "                       \"colsample_bytree\": [0.3, 0.4, 0.5, 0.7],\n",
    "                       \"n_estimators\": [1, 2, 3, 4, 5, 6, 7]}"
   ],
   "metadata": {
    "collapsed": false,
    "pycharm": {
     "name": "#%%\n"
    }
   }
  },
  {
   "cell_type": "code",
   "execution_count": 157,
   "outputs": [],
   "source": [
    "random_search_education = RandomizedSearchCV(education_model, education_parameter,\n",
    "                                             n_iter=50,\n",
    "                                             scoring=\"f1_micro\",\n",
    "                                             cv=5)"
   ],
   "metadata": {
    "collapsed": false,
    "pycharm": {
     "name": "#%%\n"
    }
   }
  },
  {
   "cell_type": "code",
   "execution_count": 158,
   "outputs": [
    {
     "data": {
      "text/plain": "RandomizedSearchCV(cv=5,\n                   estimator=XGBClassifier(base_score=None, booster=None,\n                                           colsample_bylevel=None,\n                                           colsample_bynode=None,\n                                           colsample_bytree=None,\n                                           enable_categorical=False, gamma=None,\n                                           gpu_id=None, importance_type=None,\n                                           interaction_constraints=None,\n                                           learning_rate=None,\n                                           max_delta_step=None, max_depth=None,\n                                           min_child_weight=None, missing=nan,\n                                           monotone_constraints...\n                                           subsample=None, tree_method=None,\n                                           use_label_encoder=False,\n                                           validate_parameters=None,\n                                           verbosity=0),\n                   n_iter=50,\n                   param_distributions={'colsample_bytree': [0.3, 0.4, 0.5,\n                                                             0.7],\n                                        'gamma': [0.0, 0.1, 0.2, 0.3, 0.4],\n                                        'learning_rate': [0.05, 0.1, 0.15, 0.2,\n                                                          0.25, 0.3],\n                                        'max_depth': [3, 4, 5, 6, 8, 10, 12,\n                                                      15],\n                                        'min_child_weight': [1, 3, 5, 7],\n                                        'n_estimators': [1, 2, 3, 4, 5, 6, 7]},\n                   scoring='f1_micro')"
     },
     "execution_count": 158,
     "metadata": {},
     "output_type": "execute_result"
    }
   ],
   "source": [
    "random_search_education.fit(education_train_transform, education_train_label)"
   ],
   "metadata": {
    "collapsed": false,
    "pycharm": {
     "name": "#%%\n"
    }
   }
  },
  {
   "cell_type": "code",
   "execution_count": 161,
   "outputs": [
    {
     "name": "stdout",
     "output_type": "stream",
     "text": [
      "Best Score: 0.4346076349578432\n",
      "Best parameters: {'n_estimators': 7, 'min_child_weight': 5, 'max_depth': 8, 'learning_rate': 0.3, 'gamma': 0.4, 'colsample_bytree': 0.7}\n"
     ]
    }
   ],
   "source": [
    "print_best_score_and_parameter(random_search_education)"
   ],
   "metadata": {
    "collapsed": false,
    "pycharm": {
     "name": "#%%\n"
    }
   }
  }
 ],
 "metadata": {
  "kernelspec": {
   "name": "jupyter-dataspell-309",
   "language": "python",
   "display_name": "jupyter-dataspell-309"
  },
  "language_info": {
   "codemirror_mode": {
    "name": "ipython",
    "version": 2
   },
   "file_extension": ".py",
   "mimetype": "text/x-python",
   "name": "python",
   "nbconvert_exporter": "python",
   "pygments_lexer": "ipython2",
   "version": "2.7.6"
  }
 },
 "nbformat": 4,
 "nbformat_minor": 0
}